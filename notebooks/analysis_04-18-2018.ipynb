{
 "cells": [
  {
   "cell_type": "markdown",
   "metadata": {},
   "source": [
    "## Rahul Kumar Goyal (rxg170030) & Varun Kumar Manohara Selvan (vxm170030)\n",
    "### Project 2"
   ]
  },
  {
   "cell_type": "markdown",
   "metadata": {},
   "source": [
    "### Cardiac Arrhythmia Multi-Class Classification \n",
    "\n",
    "Analyze data and address missing data if there is any. \n",
    "\n",
    "Decide aboute a good evaluation strategy and justify your choice. \n",
    "\n",
    "Find the best parameters for the following classification models: \n",
    "- KNN classifcation \n",
    "- Logistic Regression\n",
    "- Linear Supprt Vector Machine\n",
    "- Kerenilzed Support Vector Machine\n",
    "- Decision Tree\n",
    "- Random Forest \n",
    "\n",
    "Then use different bagging and boosting methods to boost the results? Do you see any significant change? Why or why not? \n",
    "\n",
    "Next, use data reduction method you have learned in class to reduce the size of data, and agian try above models. Do you get better results? Justify your answer. \n",
    "\n",
    "<font color = 'red'>Due date for full credit: April 4, 11:59 PM\n",
    "    <br>\n",
    "    Due date for partial credit: April 6, 11:59 PM.\n",
    "    <br> No submission will be accepted after April 6. \n",
    "    <br> Please note that your term paper is also due April 6. \n",
    "    </font>"
   ]
  },
  {
   "cell_type": "markdown",
   "metadata": {},
   "source": [
    "### Import all the required libraries and dataset"
   ]
  },
  {
   "cell_type": "code",
   "execution_count": 17,
   "metadata": {
    "collapsed": true
   },
   "outputs": [],
   "source": [
    "import numpy as np\n",
    "import pandas as pd\n",
    "\n",
    "import matplotlib.pyplot as plt\n",
    "\n",
    "from sklearn.model_selection import train_test_split,GridSearchCV,StratifiedKFold\n",
    "from sklearn.metrics import classification_report, roc_curve, roc_auc_score, confusion_matrix\n",
    "from sklearn.preprocessing import MinMaxScaler\n",
    "from sklearn.metrics import roc_auc_score\n",
    "from sklearn.preprocessing import LabelBinarizer\n",
    "\n",
    "from sklearn import linear_model, decomposition\n",
    "from sklearn.tree import DecisionTreeClassifier\n",
    "from sklearn.svm import SVC\n",
    "from sklearn.ensemble import RandomForestClassifier, GradientBoostingClassifier, BaggingClassifier, AdaBoostClassifier\n",
    "from sklearn.neighbors import KNeighborsClassifier\n",
    "\n",
    "import warnings; warnings.simplefilter('ignore')"
   ]
  },
  {
   "cell_type": "markdown",
   "metadata": {},
   "source": [
    "Read the Dataset. There are no column names in the dataset"
   ]
  },
  {
   "cell_type": "code",
   "execution_count": 18,
   "metadata": {
    "collapsed": true
   },
   "outputs": [],
   "source": [
    "df = pd.read_csv('cardiac_arrhythmia.csv', header=None, na_values=['?'])"
   ]
  },
  {
   "cell_type": "markdown",
   "metadata": {},
   "source": [
    "Column names were made into a list by taking information from the metadata document"
   ]
  },
  {
   "cell_type": "code",
   "execution_count": 19,
   "metadata": {
    "collapsed": true
   },
   "outputs": [],
   "source": [
    "colnames = [\"Age\", \"Gender\", \"Height\", \"Weight\", \"QRS_Duration\", \"PR_Interval\",\n",
    "           \"QT_Interval\",\"T_Interval\",\"P_Interval\"]\n",
    "for name in [\"QRS\",\"T\",\"P\",\"QRST\",\"J\"]:\n",
    "    colnames.append(\"VectorAngle_\"+name)\n",
    "\n",
    "colnames.append(\"HeartRate\")\n",
    "\n",
    "channels = [\"DI\",\"DII\",\"DIII\",\"AVR\",\"AVL\",\"AVF\",\"V1\",\"V2\",\"V3\",\"V4\",\"V5\",\"V6\"]\n",
    "channel_specs_1 = [\"QWidth\",\"RWidth\",\"SWidth\",\"RPWidth\",\"SPWidth\",\"NumDeflections\",\n",
    "                 \"ExistRagR\",\"ExistDiaR\",\"ExistRagP\",\"ExistDiaP\",\"ExistRagT\",\"ExistDiaT\"]\n",
    "channel_specs_2 = [\"AmpJJ\",\"AmpQ\",\"AmpR\",\"AmpS\",\"AmpRP\",\n",
    "                 \"AmpSP\",\"AmpP\",\"AmpT\",\"QRSA\",\"QRSTA\"]\n",
    "\n",
    "for channel in channels:\n",
    "    for spec in channel_specs_1:\n",
    "        colnames.append(channel+\"_\"+spec)\n",
    "\n",
    "for channel in channels:\n",
    "    for spec in channel_specs_2:\n",
    "        colnames.append(channel+\"_\"+spec)\n",
    "\n",
    "colnames.append(\"Target\")\n",
    "\n",
    "#Seperate Nominal and Linear columns for future\n",
    "channel_spec = [\"ExistRagR\",\"ExistDiaR\",\"ExistRagP\",\"ExistDiaP\",\"ExistRagT\",\"ExistDiaT\"]\n",
    "channels = [\"DI\",\"DII\",\"DIII\",\"AVR\",\"AVL\",\"AVF\",\"V1\",\"V2\",\"V3\",\"V4\",\"V5\",\"V6\"]\n",
    "\n",
    "NominalCols = [\"Gender\"]\n",
    "\n",
    "for channel in channels:\n",
    "    for spec in channel_spec:\n",
    "        NominalCols.append(channel+\"_\"+spec)\n",
    "\n",
    "LinearCols = [i for i in colnames if i not in NominalCols]\n",
    "\n",
    "LinearCols = LinearCols[:-1] #Remove the \"Target\" column from LinearCols"
   ]
  },
  {
   "cell_type": "markdown",
   "metadata": {},
   "source": [
    "Rename the column names in df to the colnames list created"
   ]
  },
  {
   "cell_type": "code",
   "execution_count": 20,
   "metadata": {
    "collapsed": true
   },
   "outputs": [],
   "source": [
    "df.columns = colnames"
   ]
  },
  {
   "cell_type": "code",
   "execution_count": 21,
   "metadata": {},
   "outputs": [
    {
     "data": {
      "text/html": [
       "<div>\n",
       "<style>\n",
       "    .dataframe thead tr:only-child th {\n",
       "        text-align: right;\n",
       "    }\n",
       "\n",
       "    .dataframe thead th {\n",
       "        text-align: left;\n",
       "    }\n",
       "\n",
       "    .dataframe tbody tr th {\n",
       "        vertical-align: top;\n",
       "    }\n",
       "</style>\n",
       "<table border=\"1\" class=\"dataframe\">\n",
       "  <thead>\n",
       "    <tr style=\"text-align: right;\">\n",
       "      <th></th>\n",
       "      <th>Age</th>\n",
       "      <th>Gender</th>\n",
       "      <th>Height</th>\n",
       "      <th>Weight</th>\n",
       "      <th>QRS_Duration</th>\n",
       "      <th>PR_Interval</th>\n",
       "      <th>QT_Interval</th>\n",
       "      <th>T_Interval</th>\n",
       "      <th>P_Interval</th>\n",
       "      <th>VectorAngle_QRS</th>\n",
       "      <th>...</th>\n",
       "      <th>V6_AmpQ</th>\n",
       "      <th>V6_AmpR</th>\n",
       "      <th>V6_AmpS</th>\n",
       "      <th>V6_AmpRP</th>\n",
       "      <th>V6_AmpSP</th>\n",
       "      <th>V6_AmpP</th>\n",
       "      <th>V6_AmpT</th>\n",
       "      <th>V6_QRSA</th>\n",
       "      <th>V6_QRSTA</th>\n",
       "      <th>Target</th>\n",
       "    </tr>\n",
       "  </thead>\n",
       "  <tbody>\n",
       "    <tr>\n",
       "      <th>0</th>\n",
       "      <td>75</td>\n",
       "      <td>0</td>\n",
       "      <td>190</td>\n",
       "      <td>80</td>\n",
       "      <td>91</td>\n",
       "      <td>193</td>\n",
       "      <td>371</td>\n",
       "      <td>174</td>\n",
       "      <td>121</td>\n",
       "      <td>-16</td>\n",
       "      <td>...</td>\n",
       "      <td>0.0</td>\n",
       "      <td>9.0</td>\n",
       "      <td>-0.9</td>\n",
       "      <td>0.0</td>\n",
       "      <td>0</td>\n",
       "      <td>0.9</td>\n",
       "      <td>2.9</td>\n",
       "      <td>23.3</td>\n",
       "      <td>49.4</td>\n",
       "      <td>8</td>\n",
       "    </tr>\n",
       "    <tr>\n",
       "      <th>1</th>\n",
       "      <td>56</td>\n",
       "      <td>1</td>\n",
       "      <td>165</td>\n",
       "      <td>64</td>\n",
       "      <td>81</td>\n",
       "      <td>174</td>\n",
       "      <td>401</td>\n",
       "      <td>149</td>\n",
       "      <td>39</td>\n",
       "      <td>25</td>\n",
       "      <td>...</td>\n",
       "      <td>0.0</td>\n",
       "      <td>8.5</td>\n",
       "      <td>0.0</td>\n",
       "      <td>0.0</td>\n",
       "      <td>0</td>\n",
       "      <td>0.2</td>\n",
       "      <td>2.1</td>\n",
       "      <td>20.4</td>\n",
       "      <td>38.8</td>\n",
       "      <td>6</td>\n",
       "    </tr>\n",
       "    <tr>\n",
       "      <th>2</th>\n",
       "      <td>54</td>\n",
       "      <td>0</td>\n",
       "      <td>172</td>\n",
       "      <td>95</td>\n",
       "      <td>138</td>\n",
       "      <td>163</td>\n",
       "      <td>386</td>\n",
       "      <td>185</td>\n",
       "      <td>102</td>\n",
       "      <td>96</td>\n",
       "      <td>...</td>\n",
       "      <td>0.0</td>\n",
       "      <td>9.5</td>\n",
       "      <td>-2.4</td>\n",
       "      <td>0.0</td>\n",
       "      <td>0</td>\n",
       "      <td>0.3</td>\n",
       "      <td>3.4</td>\n",
       "      <td>12.3</td>\n",
       "      <td>49.0</td>\n",
       "      <td>10</td>\n",
       "    </tr>\n",
       "    <tr>\n",
       "      <th>3</th>\n",
       "      <td>55</td>\n",
       "      <td>0</td>\n",
       "      <td>175</td>\n",
       "      <td>94</td>\n",
       "      <td>100</td>\n",
       "      <td>202</td>\n",
       "      <td>380</td>\n",
       "      <td>179</td>\n",
       "      <td>143</td>\n",
       "      <td>28</td>\n",
       "      <td>...</td>\n",
       "      <td>0.0</td>\n",
       "      <td>12.2</td>\n",
       "      <td>-2.2</td>\n",
       "      <td>0.0</td>\n",
       "      <td>0</td>\n",
       "      <td>0.4</td>\n",
       "      <td>2.6</td>\n",
       "      <td>34.6</td>\n",
       "      <td>61.6</td>\n",
       "      <td>1</td>\n",
       "    </tr>\n",
       "    <tr>\n",
       "      <th>4</th>\n",
       "      <td>75</td>\n",
       "      <td>0</td>\n",
       "      <td>190</td>\n",
       "      <td>80</td>\n",
       "      <td>88</td>\n",
       "      <td>181</td>\n",
       "      <td>360</td>\n",
       "      <td>177</td>\n",
       "      <td>103</td>\n",
       "      <td>-16</td>\n",
       "      <td>...</td>\n",
       "      <td>0.0</td>\n",
       "      <td>13.1</td>\n",
       "      <td>-3.6</td>\n",
       "      <td>0.0</td>\n",
       "      <td>0</td>\n",
       "      <td>-0.1</td>\n",
       "      <td>3.9</td>\n",
       "      <td>25.4</td>\n",
       "      <td>62.8</td>\n",
       "      <td>7</td>\n",
       "    </tr>\n",
       "  </tbody>\n",
       "</table>\n",
       "<p>5 rows × 280 columns</p>\n",
       "</div>"
      ],
      "text/plain": [
       "   Age  Gender  Height  Weight  QRS_Duration  PR_Interval  QT_Interval  \\\n",
       "0   75       0     190      80            91          193          371   \n",
       "1   56       1     165      64            81          174          401   \n",
       "2   54       0     172      95           138          163          386   \n",
       "3   55       0     175      94           100          202          380   \n",
       "4   75       0     190      80            88          181          360   \n",
       "\n",
       "   T_Interval  P_Interval  VectorAngle_QRS   ...    V6_AmpQ  V6_AmpR  V6_AmpS  \\\n",
       "0         174         121              -16   ...        0.0      9.0     -0.9   \n",
       "1         149          39               25   ...        0.0      8.5      0.0   \n",
       "2         185         102               96   ...        0.0      9.5     -2.4   \n",
       "3         179         143               28   ...        0.0     12.2     -2.2   \n",
       "4         177         103              -16   ...        0.0     13.1     -3.6   \n",
       "\n",
       "   V6_AmpRP  V6_AmpSP  V6_AmpP  V6_AmpT  V6_QRSA  V6_QRSTA  Target  \n",
       "0       0.0         0      0.9      2.9     23.3      49.4       8  \n",
       "1       0.0         0      0.2      2.1     20.4      38.8       6  \n",
       "2       0.0         0      0.3      3.4     12.3      49.0      10  \n",
       "3       0.0         0      0.4      2.6     34.6      61.6       1  \n",
       "4       0.0         0     -0.1      3.9     25.4      62.8       7  \n",
       "\n",
       "[5 rows x 280 columns]"
      ]
     },
     "execution_count": 21,
     "metadata": {},
     "output_type": "execute_result"
    }
   ],
   "source": [
    "df.head()"
   ]
  },
  {
   "cell_type": "markdown",
   "metadata": {},
   "source": [
    "### Missing values imputation"
   ]
  },
  {
   "cell_type": "markdown",
   "metadata": {},
   "source": [
    "See the number of missing values in each column."
   ]
  },
  {
   "cell_type": "code",
   "execution_count": 22,
   "metadata": {},
   "outputs": [
    {
     "name": "stdout",
     "output_type": "stream",
     "text": [
      "[  0   0   0   0   0   0   0   0   0   0   8  22   1 376   1   0   0   0\n",
      "   0   0   0   0   0   0   0   0   0   0   0   0   0   0   0   0   0   0\n",
      "   0   0   0   0   0   0   0   0   0   0   0   0   0   0   0   0   0   0\n",
      "   0   0   0   0   0   0   0   0   0   0   0   0   0   0   0   0   0   0\n",
      "   0   0   0   0   0   0   0   0   0   0   0   0   0   0   0   0   0   0\n",
      "   0   0   0   0   0   0   0   0   0   0   0   0   0   0   0   0   0   0\n",
      "   0   0   0   0   0   0   0   0   0   0   0   0   0   0   0   0   0   0\n",
      "   0   0   0   0   0   0   0   0   0   0   0   0   0   0   0   0   0   0\n",
      "   0   0   0   0   0   0   0   0   0   0   0   0   0   0   0   0   0   0\n",
      "   0   0   0   0   0   0   0   0   0   0   0   0   0   0   0   0   0   0\n",
      "   0   0   0   0   0   0   0   0   0   0   0   0   0   0   0   0   0   0\n",
      "   0   0   0   0   0   0   0   0   0   0   0   0   0   0   0   0   0   0\n",
      "   0   0   0   0   0   0   0   0   0   0   0   0   0   0   0   0   0   0\n",
      "   0   0   0   0   0   0   0   0   0   0   0   0   0   0   0   0   0   0\n",
      "   0   0   0   0   0   0   0   0   0   0   0   0   0   0   0   0   0   0\n",
      "   0   0   0   0   0   0   0   0   0   0]\n",
      "(452, 280)\n"
     ]
    }
   ],
   "source": [
    "print(np.array(df.isnull().sum()))\n",
    "print(df.shape)"
   ]
  },
  {
   "cell_type": "markdown",
   "metadata": {},
   "source": [
    "In the cell below, missing values are filled using average for linear columns. For nominal columns there are no missing values."
   ]
  },
  {
   "cell_type": "code",
   "execution_count": 23,
   "metadata": {
    "collapsed": true
   },
   "outputs": [],
   "source": [
    "df = df.fillna(df.mean())"
   ]
  },
  {
   "cell_type": "markdown",
   "metadata": {},
   "source": [
    "### Data Cleaning"
   ]
  },
  {
   "cell_type": "markdown",
   "metadata": {},
   "source": [
    "1) Check to see if the nominal columns have more than 2 values. If there are we might want to convert them to one_hot.<br>\n",
    "2) Print the columns which have only one value as they will be of no use in the analysis"
   ]
  },
  {
   "cell_type": "code",
   "execution_count": 24,
   "metadata": {},
   "outputs": [
    {
     "name": "stdout",
     "output_type": "stream",
     "text": [
      "Nominal Columns\n",
      "Unique values in AVL_ExistRagR column are: [0]\n",
      "Unique values in AVF_ExistRagP column are: [0]\n",
      "Unique values in V4_ExistRagP column are: [0]\n",
      "Unique values in V4_ExistDiaP column are: [0]\n",
      "Unique values in V5_ExistRagR column are: [0]\n",
      "Unique values in V5_ExistRagP column are: [0]\n",
      "Unique values in V5_ExistRagT column are: [0]\n",
      "Unique values in V6_ExistDiaP column are: [0]\n",
      "Unique values in V6_ExistRagT column are: [0]\n",
      "\n",
      "\n",
      "Linear Columns\n",
      "Unique values in DI_SPWidth column are: [0]\n",
      "Unique values in AVL_SPWidth column are: [0]\n",
      "Unique values in V5_SPWidth column are: [0]\n",
      "Unique values in V6_SPWidth column are: [0]\n",
      "Unique values in DI_AmpSP column are: [0]\n",
      "Unique values in AVL_AmpSP column are: [0]\n",
      "Unique values in V5_AmpSP column are: [0]\n",
      "Unique values in V6_AmpSP column are: [0]\n"
     ]
    }
   ],
   "source": [
    "#Check number of unique values in nominal columns to see if it is required to convert any to one_hot\n",
    "#Next check linear columns which only have one unique values\n",
    "\n",
    "print('Nominal Columns')\n",
    "for col in NominalCols:\n",
    "    if len(df[col].unique()) != 2:\n",
    "        print(\"Unique values in \"+col+\" column are: \",end=\"\")\n",
    "        print(df[col].unique())\n",
    "        \n",
    "print('\\n')\n",
    "print('Linear Columns')\n",
    "for col in LinearCols:\n",
    "    if len(df[col].unique()) == 1:\n",
    "        print(\"Unique values in \"+col+\" column are: \",end=\"\")\n",
    "        print(df[col].unique())"
   ]
  },
  {
   "cell_type": "markdown",
   "metadata": {},
   "source": [
    "1) No nominal columns have more than 2 values. So we don't have to convert any column to one hot. <br>\n",
    "2) Few nominal and linear columns have only one value so remove them and update the NominalCols and LinearCols list."
   ]
  },
  {
   "cell_type": "code",
   "execution_count": 25,
   "metadata": {
    "collapsed": true
   },
   "outputs": [],
   "source": [
    "for col in df.columns:\n",
    "    if len(df[col].unique()) == 1:\n",
    "        df.drop(col, inplace=True, axis=1)\n",
    "\n",
    "#Update the nominal and linear columns list\n",
    "NominalCols = [i for i in NominalCols if i in df.columns]\n",
    "LinearCols = [i for i in LinearCols if i in df.columns]"
   ]
  },
  {
   "cell_type": "markdown",
   "metadata": {},
   "source": [
    "### Modeling"
   ]
  },
  {
   "cell_type": "markdown",
   "metadata": {},
   "source": [
    "Models built will be<br>\n",
    "1) Logistic Regression (Multinomial and OneVersusRest)<br>\n",
    "2) Support Vector Classifier (linear and rbf kernels)<br>\n",
    "3) Decision Tree Classifier<br>\n",
    "4) Random Forests<br>\n",
    "5) K Nearest Neighbors<br>\n",
    "6) Gradient Boosting Classifier<br>"
   ]
  },
  {
   "cell_type": "markdown",
   "metadata": {},
   "source": [
    "Seperate the features and target in the dataset and do min max scaling"
   ]
  },
  {
   "cell_type": "code",
   "execution_count": 26,
   "metadata": {
    "collapsed": true
   },
   "outputs": [],
   "source": [
    "X = df[df.columns[:-1]]\n",
    "y = df['Target']\n",
    "\n",
    "X_train, X_test, y_train, y_test = train_test_split(X, y, test_size=0.33, random_state=1, stratify = y)\n",
    "\n",
    "scaler = MinMaxScaler()\n",
    "\n",
    "X_train_scaled = scaler.fit_transform(X_train)\n",
    "X_test_scaled = scaler.transform(X_test)\n",
    "\n",
    "X_scaled = scaler.fit_transform(X)"
   ]
  },
  {
   "cell_type": "markdown",
   "metadata": {},
   "source": [
    "A few helper functions are used for the analysis.<br>\n",
    "1) **multiclass_roc_auc_score**: Scikit learn's roc and auc functions do the work only for binary classfication problem, this function calculates the AUC for the multiclass classification problem we have<br>\n",
    "2) **var_imp_plot**: This function plots the important variables for the different models that we plot <br>\n",
    "3) **print_grid_search**: This function plots few metrics from grid search of use to us<br>\n",
    "4) **print_model_scores**: This functions prints a few results we want from a model like classification report etc."
   ]
  },
  {
   "cell_type": "code",
   "execution_count": 27,
   "metadata": {},
   "outputs": [],
   "source": [
    "def multiclass_roc_auc_score(truth, pred, average=\"macro\"):\n",
    "\n",
    "    lb = LabelBinarizer()\n",
    "    lb.fit(truth)\n",
    "\n",
    "    truth = lb.transform(truth)\n",
    "    pred = lb.transform(pred)\n",
    "\n",
    "    return(roc_auc_score(truth, pred, average=average))\n",
    "\n",
    "def var_imp_plot(model, df = df):\n",
    "    \n",
    "    feature_importance = model.feature_importances_\n",
    "    feature_importance = 100.0 * (feature_importance / feature_importance.max())\n",
    "    \n",
    "    column_names = df.columns[:-1]\n",
    "\n",
    "    imp = list(zip(column_names, feature_importance))\n",
    "    x = sorted(imp, reverse=True, key= lambda x: x[1])[0:20][::-1]\n",
    "\n",
    "    sorted_idx = np.argsort(feature_importance)[0:20]\n",
    "    pos = np.arange(sorted_idx.shape[0])+0.5\n",
    "\n",
    "    plt.subplot(1, 2, 2)\n",
    "    plt.barh(pos, [a[1] for a in x], align='center')\n",
    "    plt.yticks(pos, [a[0] for a in x])\n",
    "    plt.xlabel('Relative Importance')\n",
    "    plt.title('Variable Importance')\n",
    "    plt.show()\n",
    "    \n",
    "def print_grid_search(grid_search):\n",
    "    \n",
    "    print(\"Best parameters: {}\".format(grid_search.best_params_))\n",
    "    print(\"Best cross-validation score: {:.2f}\".format(grid_search.best_score_))\n",
    "    print( \"Best estimator:\\n{}\".format(grid_search.best_estimator_))\n",
    "    \n",
    "def print_model_scores(model, y_test = y_test, X_test_scaled = X_test_scaled, X_train_scaled = X_train_scaled, y_train = y_train):\n",
    "    \n",
    "    y_predicted = model.predict(X_test_scaled)\n",
    "    \n",
    "    print(\"training score : %.4f \" % (model.score(X_train_scaled, y_train)))\n",
    "    print(\"testing score : %.4f \" % (model.score(X_test_scaled, y_test)))\n",
    "    \n",
    "    print(\"Testing report :\")\n",
    "    print(classification_report(y_test, y_predicted))\n",
    "    \n",
    "    print(\"Confusion matrix: \")\n",
    "    print(confusion_matrix(y_test, y_predicted))\n",
    "    \n",
    "    print(\"AUC: {:.4f}\".format(multiclass_roc_auc_score(y_test, y_predicted)))"
   ]
  },
  {
   "cell_type": "markdown",
   "metadata": {},
   "source": [
    "##### The model building process for each model will be as follows:\n",
    "###### 1) Do Grid Search on each model to find the best estimator \n",
    "###### 2) Use the best estimator to build that specific model\n",
    "###### 3) Bagging and Boosting (if applicable) the best estimator to try and get better results \n",
    "###### 4) Decide the best model based on the maximum accuracy and maximum roc"
   ]
  },
  {
   "cell_type": "markdown",
   "metadata": {},
   "source": [
    "Grid Search to find the best value for C in both the Multionomial and One Versus Rest"
   ]
  },
  {
   "cell_type": "code",
   "execution_count": 28,
   "metadata": {},
   "outputs": [
    {
     "name": "stdout",
     "output_type": "stream",
     "text": [
      "multinomial\n",
      "Best parameters: {'C': 1}\n",
      "Best cross-validation score: 0.68\n",
      "Best estimator:\n",
      "LogisticRegression(C=1, class_weight=None, dual=False, fit_intercept=True,\n",
      "          intercept_scaling=1, max_iter=100, multi_class='multinomial',\n",
      "          n_jobs=1, penalty='l2', random_state=1, solver='sag', tol=0.0001,\n",
      "          verbose=0, warm_start=False)\n",
      "ovr\n",
      "Best parameters: {'C': 0.5}\n",
      "Best cross-validation score: 0.68\n",
      "Best estimator:\n",
      "LogisticRegression(C=0.5, class_weight=None, dual=False, fit_intercept=True,\n",
      "          intercept_scaling=1, max_iter=100, multi_class='ovr', n_jobs=1,\n",
      "          penalty='l2', random_state=1, solver='sag', tol=0.0001,\n",
      "          verbose=0, warm_start=False)\n"
     ]
    }
   ],
   "source": [
    "param_grid = {'C':[0.1,0.5,1,2,5,10]}\n",
    "\n",
    "for multi_class in ('multinomial', 'ovr'):\n",
    "    grid_search = GridSearchCV(linear_model.LogisticRegression(solver='sag', random_state=1, multi_class=multi_class),\n",
    "                               param_grid, cv=StratifiedKFold(5, shuffle = True, random_state = 1))\n",
    "\n",
    "    grid_search.fit(X_train_scaled, y_train)\n",
    "    \n",
    "    print(multi_class)\n",
    "    print_grid_search(grid_search)"
   ]
  },
  {
   "cell_type": "markdown",
   "metadata": {},
   "source": [
    "Build the multiclass logistic regression model for multinomial and one versus rest"
   ]
  },
  {
   "cell_type": "code",
   "execution_count": 29,
   "metadata": {},
   "outputs": [
    {
     "name": "stdout",
     "output_type": "stream",
     "text": [
      "multinomial\n",
      "training score : 0.8344 \n",
      "testing score : 0.7200 \n",
      "Testing report :\n",
      "             precision    recall  f1-score   support\n",
      "\n",
      "          1       0.70      0.99      0.82        81\n",
      "          2       0.75      0.40      0.52        15\n",
      "          3       1.00      1.00      1.00         5\n",
      "          4       0.50      0.40      0.44         5\n",
      "          5       0.00      0.00      0.00         4\n",
      "          6       0.00      0.00      0.00         8\n",
      "          7       0.00      0.00      0.00         1\n",
      "          8       0.00      0.00      0.00         1\n",
      "          9       1.00      0.67      0.80         3\n",
      "         10       0.81      0.76      0.79        17\n",
      "         14       0.00      0.00      0.00         1\n",
      "         15       0.00      0.00      0.00         2\n",
      "         16       0.00      0.00      0.00         7\n",
      "\n",
      "avg / total       0.61      0.72      0.65       150\n",
      "\n",
      "Confusion matrix: \n",
      "[[80  0  0  1  0  0  0  0  0  0  0  0  0]\n",
      " [ 8  6  0  0  0  0  0  0  0  1  0  0  0]\n",
      " [ 0  0  5  0  0  0  0  0  0  0  0  0  0]\n",
      " [ 1  1  0  2  0  0  0  0  0  1  0  0  0]\n",
      " [ 4  0  0  0  0  0  0  0  0  0  0  0  0]\n",
      " [ 7  0  0  1  0  0  0  0  0  0  0  0  0]\n",
      " [ 1  0  0  0  0  0  0  0  0  0  0  0  0]\n",
      " [ 1  0  0  0  0  0  0  0  0  0  0  0  0]\n",
      " [ 1  0  0  0  0  0  0  0  2  0  0  0  0]\n",
      " [ 4  0  0  0  0  0  0  0  0 13  0  0  0]\n",
      " [ 1  0  0  0  0  0  0  0  0  0  0  0  0]\n",
      " [ 1  1  0  0  0  0  0  0  0  0  0  0  0]\n",
      " [ 6  0  0  0  0  0  0  0  0  1  0  0  0]]\n",
      "AUC: 0.6408\n",
      "ovr\n",
      "training score : 0.7682 \n",
      "testing score : 0.6800 \n",
      "Testing report :\n",
      "             precision    recall  f1-score   support\n",
      "\n",
      "          1       0.67      0.99      0.80        81\n",
      "          2       0.67      0.40      0.50        15\n",
      "          3       1.00      1.00      1.00         5\n",
      "          4       0.33      0.20      0.25         5\n",
      "          5       0.00      0.00      0.00         4\n",
      "          6       0.00      0.00      0.00         8\n",
      "          7       0.00      0.00      0.00         1\n",
      "          8       0.00      0.00      0.00         1\n",
      "          9       1.00      0.33      0.50         3\n",
      "         10       0.75      0.53      0.62        17\n",
      "         14       0.00      0.00      0.00         1\n",
      "         15       0.00      0.00      0.00         2\n",
      "         16       0.00      0.00      0.00         7\n",
      "\n",
      "avg / total       0.58      0.68      0.60       150\n",
      "\n",
      "Confusion matrix: \n",
      "[[80  0  0  1  0  0  0  0  0  0  0  0  0]\n",
      " [ 8  6  0  0  0  0  0  0  0  1  0  0  0]\n",
      " [ 0  0  5  0  0  0  0  0  0  0  0  0  0]\n",
      " [ 2  1  0  1  0  0  0  0  0  1  0  0  0]\n",
      " [ 4  0  0  0  0  0  0  0  0  0  0  0  0]\n",
      " [ 7  0  0  1  0  0  0  0  0  0  0  0  0]\n",
      " [ 1  0  0  0  0  0  0  0  0  0  0  0  0]\n",
      " [ 1  0  0  0  0  0  0  0  0  0  0  0  0]\n",
      " [ 1  1  0  0  0  0  0  0  1  0  0  0  0]\n",
      " [ 8  0  0  0  0  0  0  0  0  9  0  0  0]\n",
      " [ 1  0  0  0  0  0  0  0  0  0  0  0  0]\n",
      " [ 1  1  0  0  0  0  0  0  0  0  0  0  0]\n",
      " [ 6  0  0  0  0  0  0  0  0  1  0  0  0]]\n",
      "AUC: 0.6082\n"
     ]
    }
   ],
   "source": [
    "for multi_class, c in [('multinomial',1), ('ovr', 0.5)]:\n",
    "    clf = linear_model.LogisticRegression(solver='sag', random_state=1, C = c,\n",
    "                             multi_class=multi_class).fit(X_train_scaled, y_train)\n",
    "\n",
    "    # print the training scores\n",
    "    print(multi_class)\n",
    "    print_model_scores(model = clf)"
   ]
  },
  {
   "cell_type": "markdown",
   "metadata": {},
   "source": [
    "Boosting and Bagging both the models"
   ]
  },
  {
   "cell_type": "code",
   "execution_count": 30,
   "metadata": {},
   "outputs": [
    {
     "name": "stdout",
     "output_type": "stream",
     "text": [
      "Bagging\n",
      "multinomial\n",
      "training score : 0.8013 \n",
      "testing score : 0.7067 \n",
      "Testing report :\n",
      "             precision    recall  f1-score   support\n",
      "\n",
      "          1       0.69      0.99      0.81        81\n",
      "          2       0.60      0.40      0.48        15\n",
      "          3       1.00      1.00      1.00         5\n",
      "          4       0.60      0.60      0.60         5\n",
      "          5       0.00      0.00      0.00         4\n",
      "          6       0.00      0.00      0.00         8\n",
      "          7       0.00      0.00      0.00         1\n",
      "          8       0.00      0.00      0.00         1\n",
      "          9       1.00      0.33      0.50         3\n",
      "         10       0.85      0.65      0.73        17\n",
      "         14       0.00      0.00      0.00         1\n",
      "         15       0.00      0.00      0.00         2\n",
      "         16       0.00      0.00      0.00         7\n",
      "\n",
      "avg / total       0.60      0.71      0.63       150\n",
      "\n",
      "Confusion matrix: \n",
      "[[80  0  0  1  0  0  0  0  0  0  0  0  0]\n",
      " [ 8  6  0  0  0  0  0  0  0  1  0  0  0]\n",
      " [ 0  0  5  0  0  0  0  0  0  0  0  0  0]\n",
      " [ 1  1  0  3  0  0  0  0  0  0  0  0  0]\n",
      " [ 4  0  0  0  0  0  0  0  0  0  0  0  0]\n",
      " [ 7  0  0  1  0  0  0  0  0  0  0  0  0]\n",
      " [ 1  0  0  0  0  0  0  0  0  0  0  0  0]\n",
      " [ 1  0  0  0  0  0  0  0  0  0  0  0  0]\n",
      " [ 1  1  0  0  0  0  0  0  1  0  0  0  0]\n",
      " [ 5  1  0  0  0  0  0  0  0 11  0  0  0]\n",
      " [ 1  0  0  0  0  0  0  0  0  0  0  0  0]\n",
      " [ 1  1  0  0  0  0  0  0  0  0  0  0  0]\n",
      " [ 6  0  0  0  0  0  0  0  0  1  0  0  0]]\n",
      "AUC: 0.6303\n",
      "ovr\n",
      "training score : 0.7517 \n",
      "testing score : 0.6800 \n",
      "Testing report :\n",
      "             precision    recall  f1-score   support\n",
      "\n",
      "          1       0.65      0.99      0.78        81\n",
      "          2       0.75      0.40      0.52        15\n",
      "          3       1.00      1.00      1.00         5\n",
      "          4       0.50      0.20      0.29         5\n",
      "          5       0.00      0.00      0.00         4\n",
      "          6       0.00      0.00      0.00         8\n",
      "          7       0.00      0.00      0.00         1\n",
      "          8       0.00      0.00      0.00         1\n",
      "          9       1.00      0.33      0.50         3\n",
      "         10       0.82      0.53      0.64        17\n",
      "         14       0.00      0.00      0.00         1\n",
      "         15       0.00      0.00      0.00         2\n",
      "         16       0.00      0.00      0.00         7\n",
      "\n",
      "avg / total       0.59      0.68      0.60       150\n",
      "\n",
      "Confusion matrix: \n",
      "[[80  0  0  1  0  0  0  0  0  0  0  0  0]\n",
      " [ 8  6  0  0  0  0  0  0  0  1  0  0  0]\n",
      " [ 0  0  5  0  0  0  0  0  0  0  0  0  0]\n",
      " [ 3  1  0  1  0  0  0  0  0  0  0  0  0]\n",
      " [ 4  0  0  0  0  0  0  0  0  0  0  0  0]\n",
      " [ 8  0  0  0  0  0  0  0  0  0  0  0  0]\n",
      " [ 1  0  0  0  0  0  0  0  0  0  0  0  0]\n",
      " [ 1  0  0  0  0  0  0  0  0  0  0  0  0]\n",
      " [ 1  1  0  0  0  0  0  0  1  0  0  0  0]\n",
      " [ 8  0  0  0  0  0  0  0  0  9  0  0  0]\n",
      " [ 1  0  0  0  0  0  0  0  0  0  0  0  0]\n",
      " [ 2  0  0  0  0  0  0  0  0  0  0  0  0]\n",
      " [ 6  0  0  0  0  0  0  0  0  1  0  0  0]]\n",
      "AUC: 0.6073\n",
      "AdaBoost\n",
      "multinomial\n",
      "training score : 0.6589 \n",
      "testing score : 0.6067 \n",
      "Testing report :\n",
      "             precision    recall  f1-score   support\n",
      "\n",
      "          1       0.59      0.99      0.74        81\n",
      "          2       0.50      0.13      0.21        15\n",
      "          3       1.00      0.40      0.57         5\n",
      "          4       0.00      0.00      0.00         5\n",
      "          5       0.00      0.00      0.00         4\n",
      "          6       0.00      0.00      0.00         8\n",
      "          7       0.00      0.00      0.00         1\n",
      "          8       0.00      0.00      0.00         1\n",
      "          9       1.00      0.33      0.50         3\n",
      "         10       1.00      0.35      0.52        17\n",
      "         14       0.00      0.00      0.00         1\n",
      "         15       0.00      0.00      0.00         2\n",
      "         16       0.00      0.00      0.00         7\n",
      "\n",
      "avg / total       0.53      0.61      0.51       150\n",
      "\n",
      "Confusion matrix: \n",
      "[[80  1  0  0  0  0  0  0  0  0  0  0  0]\n",
      " [13  2  0  0  0  0  0  0  0  0  0  0  0]\n",
      " [ 3  0  2  0  0  0  0  0  0  0  0  0  0]\n",
      " [ 4  1  0  0  0  0  0  0  0  0  0  0  0]\n",
      " [ 4  0  0  0  0  0  0  0  0  0  0  0  0]\n",
      " [ 7  0  0  1  0  0  0  0  0  0  0  0  0]\n",
      " [ 1  0  0  0  0  0  0  0  0  0  0  0  0]\n",
      " [ 1  0  0  0  0  0  0  0  0  0  0  0  0]\n",
      " [ 2  0  0  0  0  0  0  0  1  0  0  0  0]\n",
      " [11  0  0  0  0  0  0  0  0  6  0  0  0]\n",
      " [ 1  0  0  0  0  0  0  0  0  0  0  0  0]\n",
      " [ 2  0  0  0  0  0  0  0  0  0  0  0  0]\n",
      " [ 7  0  0  0  0  0  0  0  0  0  0  0  0]]\n",
      "AUC: 0.5528\n",
      "ovr\n",
      "training score : 0.5828 \n",
      "testing score : 0.5667 \n",
      "Testing report :\n",
      "             precision    recall  f1-score   support\n",
      "\n",
      "          1       0.55      1.00      0.71        81\n",
      "          2       0.00      0.00      0.00        15\n",
      "          3       0.00      0.00      0.00         5\n",
      "          4       0.00      0.00      0.00         5\n",
      "          5       0.00      0.00      0.00         4\n",
      "          6       0.00      0.00      0.00         8\n",
      "          7       0.00      0.00      0.00         1\n",
      "          8       0.00      0.00      0.00         1\n",
      "          9       1.00      0.33      0.50         3\n",
      "         10       1.00      0.18      0.30        17\n",
      "         14       0.00      0.00      0.00         1\n",
      "         15       0.00      0.00      0.00         2\n",
      "         16       0.00      0.00      0.00         7\n",
      "\n",
      "avg / total       0.43      0.57      0.43       150\n",
      "\n",
      "Confusion matrix: \n",
      "[[81  0  0  0  0  0  0  0  0  0  0  0  0]\n",
      " [15  0  0  0  0  0  0  0  0  0  0  0  0]\n",
      " [ 5  0  0  0  0  0  0  0  0  0  0  0  0]\n",
      " [ 5  0  0  0  0  0  0  0  0  0  0  0  0]\n",
      " [ 4  0  0  0  0  0  0  0  0  0  0  0  0]\n",
      " [ 8  0  0  0  0  0  0  0  0  0  0  0  0]\n",
      " [ 1  0  0  0  0  0  0  0  0  0  0  0  0]\n",
      " [ 1  0  0  0  0  0  0  0  0  0  0  0  0]\n",
      " [ 2  0  0  0  0  0  0  0  1  0  0  0  0]\n",
      " [14  0  0  0  0  0  0  0  0  3  0  0  0]\n",
      " [ 1  0  0  0  0  0  0  0  0  0  0  0  0]\n",
      " [ 2  0  0  0  0  0  0  0  0  0  0  0  0]\n",
      " [ 7  0  0  0  0  0  0  0  0  0  0  0  0]]\n",
      "AUC: 0.5218\n"
     ]
    }
   ],
   "source": [
    "print(\"Bagging\")\n",
    "for multi_class, c in [('multinomial',1), ('ovr', 0.5)]:\n",
    "    clf = BaggingClassifier(linear_model.LogisticRegression(solver='sag', random_state=1, C = c,\n",
    "                             multi_class=multi_class)).fit(X_train_scaled, y_train)\n",
    "\n",
    "    # print the training scores\n",
    "    print(multi_class)\n",
    "    print_model_scores(model = clf)\n",
    "    \n",
    "print(\"AdaBoost\")\n",
    "for multi_class, c in [('multinomial',1), ('ovr', 0.5)]:\n",
    "    clf = AdaBoostClassifier(linear_model.LogisticRegression(solver='sag', random_state=1, C = c,\n",
    "                             multi_class=multi_class)).fit(X_train_scaled, y_train)\n",
    "\n",
    "    # print the training scores\n",
    "    print(multi_class)\n",
    "    print_model_scores(model = clf)"
   ]
  },
  {
   "cell_type": "markdown",
   "metadata": {},
   "source": [
    "Grid Search on Support Vector Classifier to find best values for C using a linear kernel"
   ]
  },
  {
   "cell_type": "code",
   "execution_count": 31,
   "metadata": {},
   "outputs": [
    {
     "name": "stdout",
     "output_type": "stream",
     "text": [
      "Best parameters: {'C': 1}\n",
      "Best cross-validation score: 0.68\n",
      "Best estimator:\n",
      "SVC(C=1, cache_size=200, class_weight=None, coef0=0.0,\n",
      "  decision_function_shape='ovr', degree=3, gamma='auto', kernel='linear',\n",
      "  max_iter=-1, probability=False, random_state=1, shrinking=True,\n",
      "  tol=0.001, verbose=False)\n"
     ]
    }
   ],
   "source": [
    "param_grid = {'C': [0.001, 0.01, 0.1, 1, 10, 100]}\n",
    "\n",
    "grid_search = GridSearchCV(SVC(kernel = 'linear', random_state = 1),\n",
    "                           param_grid, cv=StratifiedKFold(5, shuffle = True, random_state = 1))\n",
    "\n",
    "grid_search.fit(X_train_scaled, y_train)\n",
    "\n",
    "print_grid_search(grid_search)"
   ]
  },
  {
   "cell_type": "markdown",
   "metadata": {},
   "source": [
    "Build linear SVC using the best parameters"
   ]
  },
  {
   "cell_type": "code",
   "execution_count": 32,
   "metadata": {},
   "outputs": [
    {
     "name": "stdout",
     "output_type": "stream",
     "text": [
      "training score : 0.9238 \n",
      "testing score : 0.7200 \n",
      "Testing report :\n",
      "             precision    recall  f1-score   support\n",
      "\n",
      "          1       0.71      0.96      0.82        81\n",
      "          2       0.88      0.47      0.61        15\n",
      "          3       1.00      1.00      1.00         5\n",
      "          4       0.50      0.80      0.62         5\n",
      "          5       0.00      0.00      0.00         4\n",
      "          6       0.00      0.00      0.00         8\n",
      "          7       0.00      0.00      0.00         1\n",
      "          8       0.00      0.00      0.00         1\n",
      "          9       1.00      0.67      0.80         3\n",
      "         10       0.83      0.59      0.69        17\n",
      "         14       0.50      1.00      0.67         1\n",
      "         15       1.00      0.50      0.67         2\n",
      "         16       0.00      0.00      0.00         7\n",
      "\n",
      "avg / total       0.65      0.72      0.66       150\n",
      "\n",
      "Confusion matrix: \n",
      "[[78  1  0  1  0  0  0  0  0  1  0  0  0]\n",
      " [ 8  7  0  0  0  0  0  0  0  0  0  0  0]\n",
      " [ 0  0  5  0  0  0  0  0  0  0  0  0  0]\n",
      " [ 0  0  0  4  0  0  0  1  0  0  0  0  0]\n",
      " [ 3  0  0  1  0  0  0  0  0  0  0  0  0]\n",
      " [ 7  0  0  1  0  0  0  0  0  0  0  0  0]\n",
      " [ 1  0  0  0  0  0  0  0  0  0  0  0  0]\n",
      " [ 1  0  0  0  0  0  0  0  0  0  0  0  0]\n",
      " [ 1  0  0  0  0  0  0  0  2  0  0  0  0]\n",
      " [ 4  0  0  1  0  0  1  0  0 10  1  0  0]\n",
      " [ 0  0  0  0  0  0  0  0  0  0  1  0  0]\n",
      " [ 1  0  0  0  0  0  0  0  0  0  0  1  0]\n",
      " [ 6  0  0  0  0  0  0  0  0  1  0  0  0]]\n",
      "AUC: 0.7096\n"
     ]
    }
   ],
   "source": [
    "svc = SVC(C=1, kernel='linear', random_state=1).fit(X_train_scaled, y_train)\n",
    "\n",
    "print_model_scores(model = svc)"
   ]
  },
  {
   "cell_type": "markdown",
   "metadata": {},
   "source": [
    "Bagging and boosting linear kernel"
   ]
  },
  {
   "cell_type": "code",
   "execution_count": 34,
   "metadata": {},
   "outputs": [
    {
     "name": "stdout",
     "output_type": "stream",
     "text": [
      "training score : 0.7450 \n",
      "testing score : 0.6333 \n",
      "Testing report :\n",
      "             precision    recall  f1-score   support\n",
      "\n",
      "          1       0.68      0.99      0.80        81\n",
      "          2       0.86      0.40      0.55        15\n",
      "          3       1.00      1.00      1.00         5\n",
      "          4       0.57      0.80      0.67         5\n",
      "          5       0.00      0.00      0.00         4\n",
      "          6       0.00      0.00      0.00         8\n",
      "          7       0.00      0.00      0.00         1\n",
      "          8       0.00      0.00      0.00         1\n",
      "          9       0.00      0.00      0.00         3\n",
      "         10       0.00      0.00      0.00        17\n",
      "         14       0.00      0.00      0.00         1\n",
      "         15       0.00      0.00      0.00         2\n",
      "         16       0.00      0.00      0.00         7\n",
      "\n",
      "avg / total       0.50      0.63      0.54       150\n",
      "\n",
      "Confusion matrix: \n",
      "[[80  0  0  1  0  0  0  0  0  0  0  0  0]\n",
      " [ 8  6  0  0  0  0  0  0  0  1  0  0  0]\n",
      " [ 0  0  5  0  0  0  0  0  0  0  0  0  0]\n",
      " [ 1  0  0  4  0  0  0  0  0  0  0  0  0]\n",
      " [ 3  0  0  1  0  0  0  0  0  0  0  0  0]\n",
      " [ 7  0  0  1  0  0  0  0  0  0  0  0  0]\n",
      " [ 1  0  0  0  0  0  0  0  0  0  0  0  0]\n",
      " [ 1  0  0  0  0  0  0  0  0  0  0  0  0]\n",
      " [ 1  0  0  0  0  0  0  2  0  0  0  0  0]\n",
      " [ 8  0  0  0  0  0  2  0  7  0  0  0  0]\n",
      " [ 1  0  0  0  0  0  0  0  0  0  0  0  0]\n",
      " [ 1  1  0  0  0  0  0  0  0  0  0  0  0]\n",
      " [ 6  0  0  0  0  0  0  0  0  1  0  0  0]]\n",
      "AUC: 0.5969\n"
     ]
    }
   ],
   "source": [
    "svc = BaggingClassifier(SVC(C=1, kernel='linear', random_state=1)).fit(X_train_scaled, y_train)\n",
    "\n",
    "print_model_scores(svc)"
   ]
  },
  {
   "cell_type": "markdown",
   "metadata": {},
   "source": [
    "Grid Search on Support Vector Classifier to find best values for C and gamma using a rbf kernel"
   ]
  },
  {
   "cell_type": "code",
   "execution_count": 35,
   "metadata": {},
   "outputs": [
    {
     "name": "stdout",
     "output_type": "stream",
     "text": [
      "Best parameters: {'C': 10, 'gamma': 0.05}\n",
      "Best cross-validation score: 0.70\n",
      "Best estimator:\n",
      "SVC(C=10, cache_size=200, class_weight=None, coef0=0.0,\n",
      "  decision_function_shape='ovr', degree=3, gamma=0.05, kernel='rbf',\n",
      "  max_iter=-1, probability=False, random_state=1, shrinking=True,\n",
      "  tol=0.001, verbose=False)\n"
     ]
    }
   ],
   "source": [
    "param_grid = {'C': [1, 10, 100, 200, 400, 500],\n",
    "              'gamma': [0.001, 0.01, 0.05, 0.1]}\n",
    "\n",
    "grid_search = GridSearchCV(SVC(kernel = 'rbf', random_state = 1),\n",
    "                           param_grid, cv=StratifiedKFold(5, shuffle = True, random_state = 1))\n",
    "\n",
    "grid_search.fit(X_train_scaled, y_train)\n",
    "\n",
    "print_grid_search(grid_search)"
   ]
  },
  {
   "cell_type": "markdown",
   "metadata": {},
   "source": [
    "Build radial kernel SVM using the best parameters"
   ]
  },
  {
   "cell_type": "code",
   "execution_count": 36,
   "metadata": {},
   "outputs": [
    {
     "name": "stdout",
     "output_type": "stream",
     "text": [
      "training score : 0.9305 \n",
      "testing score : 0.7067 \n",
      "Testing report :\n",
      "             precision    recall  f1-score   support\n",
      "\n",
      "          1       0.70      0.95      0.81        81\n",
      "          2       0.78      0.47      0.58        15\n",
      "          3       1.00      1.00      1.00         5\n",
      "          4       0.67      0.80      0.73         5\n",
      "          5       0.00      0.00      0.00         4\n",
      "          6       1.00      0.12      0.22         8\n",
      "          7       0.00      0.00      0.00         1\n",
      "          8       0.00      0.00      0.00         1\n",
      "          9       1.00      0.67      0.80         3\n",
      "         10       0.75      0.53      0.62        17\n",
      "         14       1.00      1.00      1.00         1\n",
      "         15       0.00      0.00      0.00         2\n",
      "         16       0.00      0.00      0.00         7\n",
      "\n",
      "avg / total       0.68      0.71      0.66       150\n",
      "\n",
      "Confusion matrix: \n",
      "[[77  0  0  1  0  0  0  0  0  1  0  0  2]\n",
      " [ 7  7  0  0  0  0  0  0  0  1  0  0  0]\n",
      " [ 0  0  5  0  0  0  0  0  0  0  0  0  0]\n",
      " [ 1  0  0  4  0  0  0  0  0  0  0  0  0]\n",
      " [ 4  0  0  0  0  0  0  0  0  0  0  0  0]\n",
      " [ 6  0  0  1  0  1  0  0  0  0  0  0  0]\n",
      " [ 1  0  0  0  0  0  0  0  0  0  0  0  0]\n",
      " [ 1  0  0  0  0  0  0  0  0  0  0  0  0]\n",
      " [ 1  0  0  0  0  0  0  0  2  0  0  0  0]\n",
      " [ 5  1  0  0  0  0  0  0  0  9  0  0  2]\n",
      " [ 0  0  0  0  0  0  0  0  0  0  1  0  0]\n",
      " [ 1  1  0  0  0  0  0  0  0  0  0  0  0]\n",
      " [ 6  0  0  0  0  0  0  0  0  1  0  0  0]]\n",
      "AUC: 0.6916\n"
     ]
    }
   ],
   "source": [
    "svc = SVC(C=10, gamma=0.05, kernel='rbf', random_state=1).fit(X_train_scaled, y_train)\n",
    "\n",
    "print_model_scores(model = svc)"
   ]
  },
  {
   "cell_type": "markdown",
   "metadata": {},
   "source": [
    "Bagging and boosting SVC with rbf kernel"
   ]
  },
  {
   "cell_type": "code",
   "execution_count": 37,
   "metadata": {},
   "outputs": [
    {
     "name": "stdout",
     "output_type": "stream",
     "text": [
      "training score : 0.8278 \n",
      "testing score : 0.6667 \n",
      "Testing report :\n",
      "             precision    recall  f1-score   support\n",
      "\n",
      "          1       0.66      0.98      0.79        81\n",
      "          2       0.55      0.40      0.46        15\n",
      "          3       0.83      1.00      0.91         5\n",
      "          4       1.00      0.80      0.89         5\n",
      "          5       0.00      0.00      0.00         4\n",
      "          6       0.00      0.00      0.00         8\n",
      "          7       0.00      0.00      0.00         1\n",
      "          8       0.00      0.00      0.00         1\n",
      "          9       0.67      0.67      0.67         3\n",
      "         10       1.00      0.24      0.38        17\n",
      "         14       0.00      0.00      0.00         1\n",
      "         15       0.00      0.00      0.00         2\n",
      "         16       0.00      0.00      0.00         7\n",
      "\n",
      "avg / total       0.60      0.67      0.59       150\n",
      "\n",
      "Confusion matrix: \n",
      "[[79  2  0  0  0  0  0  0  0  0  0  0  0]\n",
      " [ 9  6  0  0  0  0  0  0  0  0  0  0  0]\n",
      " [ 0  0  5  0  0  0  0  0  0  0  0  0  0]\n",
      " [ 1  0  0  4  0  0  0  0  0  0  0  0  0]\n",
      " [ 4  0  0  0  0  0  0  0  0  0  0  0  0]\n",
      " [ 7  0  1  0  0  0  0  0  0  0  0  0  0]\n",
      " [ 1  0  0  0  0  0  0  0  0  0  0  0  0]\n",
      " [ 1  0  0  0  0  0  0  0  0  0  0  0  0]\n",
      " [ 1  0  0  0  0  0  0  0  2  0  0  0  0]\n",
      " [ 8  2  0  0  0  0  1  0  1  4  0  1  0]\n",
      " [ 1  0  0  0  0  0  0  0  0  0  0  0  0]\n",
      " [ 1  1  0  0  0  0  0  0  0  0  0  0  0]\n",
      " [ 7  0  0  0  0  0  0  0  0  0  0  0  0]]\n",
      "AUC: 0.6315\n"
     ]
    }
   ],
   "source": [
    "svc = BaggingClassifier(SVC(C=10, gamma=0.05, kernel='rbf', random_state=1)).fit(X_train_scaled, y_train)\n",
    "\n",
    "print_model_scores(svc)"
   ]
  },
  {
   "cell_type": "markdown",
   "metadata": {},
   "source": [
    "Grid Search on Decision Tree to find best estimator"
   ]
  },
  {
   "cell_type": "code",
   "execution_count": 38,
   "metadata": {},
   "outputs": [
    {
     "name": "stdout",
     "output_type": "stream",
     "text": [
      "Best parameters: {'max_depth': 8}\n",
      "Best cross-validation score: 0.66\n",
      "Best estimator:\n",
      "DecisionTreeClassifier(class_weight=None, criterion='gini', max_depth=8,\n",
      "            max_features=None, max_leaf_nodes=None,\n",
      "            min_impurity_decrease=0.0, min_impurity_split=None,\n",
      "            min_samples_leaf=1, min_samples_split=2,\n",
      "            min_weight_fraction_leaf=0.0, presort=False, random_state=1,\n",
      "            splitter='best')\n"
     ]
    }
   ],
   "source": [
    "param_grid = {'max_depth': np.arange(3, 10)}\n",
    "\n",
    "grid_search = GridSearchCV(DecisionTreeClassifier(random_state=1),\n",
    "                           param_grid, cv=StratifiedKFold(5, shuffle = True, random_state = 1))\n",
    "\n",
    "grid_search.fit(X_train_scaled, y_train)\n",
    "\n",
    "print_grid_search(grid_search)"
   ]
  },
  {
   "cell_type": "markdown",
   "metadata": {},
   "source": [
    "Building Decision Tree using best estimator"
   ]
  },
  {
   "cell_type": "code",
   "execution_count": 39,
   "metadata": {},
   "outputs": [
    {
     "name": "stdout",
     "output_type": "stream",
     "text": [
      "training score : 0.9205 \n",
      "testing score : 0.6600 \n",
      "Testing report :\n",
      "             precision    recall  f1-score   support\n",
      "\n",
      "          1       0.69      0.90      0.78        81\n",
      "          2       0.50      0.27      0.35        15\n",
      "          3       0.80      0.80      0.80         5\n",
      "          4       0.50      0.40      0.44         5\n",
      "          5       1.00      0.50      0.67         4\n",
      "          6       1.00      0.38      0.55         8\n",
      "          7       0.00      0.00      0.00         1\n",
      "          8       0.00      0.00      0.00         1\n",
      "          9       1.00      0.33      0.50         3\n",
      "         10       0.45      0.53      0.49        17\n",
      "         14       0.00      0.00      0.00         1\n",
      "         15       0.00      0.00      0.00         2\n",
      "         16       1.00      0.14      0.25         7\n",
      "\n",
      "avg / total       0.66      0.66      0.62       150\n",
      "\n",
      "Confusion matrix: \n",
      "[[73  1  0  0  0  0  0  0  0  7  0  0  0]\n",
      " [ 7  4  0  2  0  0  0  0  0  2  0  0  0]\n",
      " [ 0  1  4  0  0  0  0  0  0  0  0  0  0]\n",
      " [ 3  0  0  2  0  0  0  0  0  0  0  0  0]\n",
      " [ 2  0  0  0  2  0  0  0  0  0  0  0  0]\n",
      " [ 3  0  1  0  0  3  0  0  0  1  0  0  0]\n",
      " [ 1  0  0  0  0  0  0  0  0  0  0  0  0]\n",
      " [ 1  0  0  0  0  0  0  0  0  0  0  0  0]\n",
      " [ 2  0  0  0  0  0  0  0  1  0  0  0  0]\n",
      " [ 8  0  0  0  0  0  0  0  0  9  0  0  0]\n",
      " [ 1  0  0  0  0  0  0  0  0  0  0  0  0]\n",
      " [ 0  1  0  0  0  0  0  0  0  1  0  0  0]\n",
      " [ 5  1  0  0  0  0  0  0  0  0  0  0  1]]\n",
      "AUC: 0.6399\n"
     ]
    }
   ],
   "source": [
    "dt = DecisionTreeClassifier(max_depth = 8, random_state=1).fit(X_train_scaled, y_train)\n",
    "\n",
    "print_model_scores(dt)"
   ]
  },
  {
   "cell_type": "markdown",
   "metadata": {},
   "source": [
    "Bagging and boosting decision tree classifier"
   ]
  },
  {
   "cell_type": "code",
   "execution_count": 40,
   "metadata": {},
   "outputs": [
    {
     "name": "stdout",
     "output_type": "stream",
     "text": [
      "Bagging\n",
      "training score : 0.9470 \n",
      "testing score : 0.7200 \n",
      "Testing report :\n",
      "             precision    recall  f1-score   support\n",
      "\n",
      "          1       0.72      0.94      0.81        81\n",
      "          2       0.73      0.53      0.62        15\n",
      "          3       0.80      0.80      0.80         5\n",
      "          4       1.00      0.40      0.57         5\n",
      "          5       0.67      0.50      0.57         4\n",
      "          6       1.00      0.62      0.77         8\n",
      "          7       0.00      0.00      0.00         1\n",
      "          8       0.00      0.00      0.00         1\n",
      "          9       1.00      0.67      0.80         3\n",
      "         10       0.56      0.53      0.55        17\n",
      "         14       0.00      0.00      0.00         1\n",
      "         15       0.00      0.00      0.00         2\n",
      "         16       0.00      0.00      0.00         7\n",
      "\n",
      "avg / total       0.67      0.72      0.68       150\n",
      "\n",
      "Confusion matrix: \n",
      "[[76  1  0  0  0  0  0  0  0  4  0  0  0]\n",
      " [ 6  8  0  0  0  0  0  0  0  1  0  0  0]\n",
      " [ 1  0  4  0  0  0  0  0  0  0  0  0  0]\n",
      " [ 2  0  0  2  1  0  0  0  0  0  0  0  0]\n",
      " [ 2  0  0  0  2  0  0  0  0  0  0  0  0]\n",
      " [ 2  0  1  0  0  5  0  0  0  0  0  0  0]\n",
      " [ 1  0  0  0  0  0  0  0  0  0  0  0  0]\n",
      " [ 1  0  0  0  0  0  0  0  0  0  0  0  0]\n",
      " [ 0  0  0  0  0  0  0  0  2  1  0  0  0]\n",
      " [ 8  0  0  0  0  0  0  0  0  9  0  0  0]\n",
      " [ 1  0  0  0  0  0  0  0  0  0  0  0  0]\n",
      " [ 1  1  0  0  0  0  0  0  0  0  0  0  0]\n",
      " [ 5  1  0  0  0  0  0  0  0  1  0  0  0]]\n",
      "AUC: 0.6719\n",
      "Boosting\n",
      "training score : 1.0000 \n",
      "testing score : 0.6733 \n",
      "Testing report :\n",
      "             precision    recall  f1-score   support\n",
      "\n",
      "          1       0.64      0.98      0.77        81\n",
      "          2       0.67      0.27      0.38        15\n",
      "          3       0.83      1.00      0.91         5\n",
      "          4       1.00      0.40      0.57         5\n",
      "          5       0.00      0.00      0.00         4\n",
      "          6       1.00      0.38      0.55         8\n",
      "          7       0.00      0.00      0.00         1\n",
      "          8       0.00      0.00      0.00         1\n",
      "          9       1.00      0.67      0.80         3\n",
      "         10       0.86      0.35      0.50        17\n",
      "         14       0.00      0.00      0.00         1\n",
      "         15       0.00      0.00      0.00         2\n",
      "         16       0.00      0.00      0.00         7\n",
      "\n",
      "avg / total       0.64      0.67      0.61       150\n",
      "\n",
      "Confusion matrix: \n",
      "[[79  1  0  0  0  0  0  0  0  1  0  0  0]\n",
      " [11  4  0  0  0  0  0  0  0  0  0  0  0]\n",
      " [ 0  0  5  0  0  0  0  0  0  0  0  0  0]\n",
      " [ 3  0  0  2  0  0  0  0  0  0  0  0  0]\n",
      " [ 4  0  0  0  0  0  0  0  0  0  0  0  0]\n",
      " [ 4  0  1  0  0  3  0  0  0  0  0  0  0]\n",
      " [ 1  0  0  0  0  0  0  0  0  0  0  0  0]\n",
      " [ 1  0  0  0  0  0  0  0  0  0  0  0  0]\n",
      " [ 1  0  0  0  0  0  0  0  2  0  0  0  0]\n",
      " [11  0  0  0  0  0  0  0  0  6  0  0  0]\n",
      " [ 1  0  0  0  0  0  0  0  0  0  0  0  0]\n",
      " [ 1  1  0  0  0  0  0  0  0  0  0  0  0]\n",
      " [ 7  0  0  0  0  0  0  0  0  0  0  0  0]]\n",
      "AUC: 0.6290\n"
     ]
    },
    {
     "data": {
      "image/png": "[encoded data removed]",
      "text/plain": [
       "<matplotlib.figure.Figure at 0x1ca2637aba8>"
      ]
     },
     "metadata": {},
     "output_type": "display_data"
    }
   ],
   "source": [
    "dt = BaggingClassifier(DecisionTreeClassifier(max_depth = 8, random_state=1)).fit(X_train_scaled, y_train)\n",
    "\n",
    "print(\"Bagging\")\n",
    "print_model_scores(dt)\n",
    "\n",
    "dt = AdaBoostClassifier(DecisionTreeClassifier(max_depth = 8, random_state=1)).fit(X_train_scaled, y_train)\n",
    "\n",
    "print(\"Boosting\")\n",
    "print_model_scores(dt)\n",
    "var_imp_plot(dt)"
   ]
  },
  {
   "cell_type": "markdown",
   "metadata": {},
   "source": [
    "Grid Search on RandomForest to find best estimator"
   ]
  },
  {
   "cell_type": "code",
   "execution_count": 41,
   "metadata": {},
   "outputs": [
    {
     "name": "stdout",
     "output_type": "stream",
     "text": [
      "Best parameters: {'n_estimators': 700}\n",
      "Best cross-validation score: 0.69\n",
      "Best estimator:\n",
      "RandomForestClassifier(bootstrap=True, class_weight=None, criterion='gini',\n",
      "            max_depth=None, max_features='auto', max_leaf_nodes=None,\n",
      "            min_impurity_decrease=0.0, min_impurity_split=None,\n",
      "            min_samples_leaf=1, min_samples_split=2,\n",
      "            min_weight_fraction_leaf=0.0, n_estimators=700, n_jobs=1,\n",
      "            oob_score=False, random_state=1, verbose=0, warm_start=False)\n"
     ]
    }
   ],
   "source": [
    "param_grid = {\"n_estimators\": [200, 500, 700]}\n",
    "\n",
    "grid_search = GridSearchCV(RandomForestClassifier(random_state=1), param_grid,\n",
    "                           cv=StratifiedKFold(5, shuffle = True, random_state = 1))\n",
    "\n",
    "grid_search.fit(X_train_scaled, y_train)\n",
    "\n",
    "print_grid_search(grid_search)"
   ]
  },
  {
   "cell_type": "markdown",
   "metadata": {},
   "source": [
    "Building model using random forest"
   ]
  },
  {
   "cell_type": "code",
   "execution_count": 42,
   "metadata": {},
   "outputs": [
    {
     "name": "stdout",
     "output_type": "stream",
     "text": [
      "training score : 1.0000 \n",
      "testing score : 0.7400 \n",
      "Testing report :\n",
      "             precision    recall  f1-score   support\n",
      "\n",
      "          1       0.71      0.98      0.82        81\n",
      "          2       0.73      0.53      0.62        15\n",
      "          3       0.83      1.00      0.91         5\n",
      "          4       1.00      0.80      0.89         5\n",
      "          5       0.00      0.00      0.00         4\n",
      "          6       1.00      0.25      0.40         8\n",
      "          7       0.00      0.00      0.00         1\n",
      "          8       0.00      0.00      0.00         1\n",
      "          9       1.00      0.67      0.80         3\n",
      "         10       0.85      0.65      0.73        17\n",
      "         14       0.00      0.00      0.00         1\n",
      "         15       0.00      0.00      0.00         2\n",
      "         16       0.00      0.00      0.00         7\n",
      "\n",
      "avg / total       0.68      0.74      0.68       150\n",
      "\n",
      "Confusion matrix: \n",
      "[[79  1  0  0  0  0  0  0  0  1  0  0  0]\n",
      " [ 7  8  0  0  0  0  0  0  0  0  0  0  0]\n",
      " [ 0  0  5  0  0  0  0  0  0  0  0  0  0]\n",
      " [ 1  0  0  4  0  0  0  0  0  0  0  0  0]\n",
      " [ 4  0  0  0  0  0  0  0  0  0  0  0  0]\n",
      " [ 5  0  1  0  0  2  0  0  0  0  0  0  0]\n",
      " [ 1  0  0  0  0  0  0  0  0  0  0  0  0]\n",
      " [ 1  0  0  0  0  0  0  0  0  0  0  0  0]\n",
      " [ 1  0  0  0  0  0  0  0  2  0  0  0  0]\n",
      " [ 6  0  0  0  0  0  0  0  0 11  0  0  0]\n",
      " [ 1  0  0  0  0  0  0  0  0  0  0  0  0]\n",
      " [ 1  1  0  0  0  0  0  0  0  0  0  0  0]\n",
      " [ 5  1  0  0  0  0  0  0  0  1  0  0  0]]\n",
      "AUC: 0.6673\n"
     ]
    },
    {
     "data": {
      "image/png": "[encoded data removed]",
      "text/plain": [
       "<matplotlib.figure.Figure at 0x1ca2a4f8048>"
      ]
     },
     "metadata": {},
     "output_type": "display_data"
    }
   ],
   "source": [
    "rf_clf = RandomForestClassifier(random_state=1,\n",
    "                                n_estimators = 700).fit(X_train_scaled, y_train)\n",
    "\n",
    "print_model_scores(rf_clf)\n",
    "\n",
    "var_imp_plot(rf_clf)"
   ]
  },
  {
   "cell_type": "markdown",
   "metadata": {},
   "source": [
    "Using Grid Search or CV for Gradientboosting to find best estimator"
   ]
  },
  {
   "cell_type": "code",
   "execution_count": 43,
   "metadata": {},
   "outputs": [
    {
     "name": "stdout",
     "output_type": "stream",
     "text": [
      "Best parameters: {'learning_rate': 0.01, 'max_depth': 5}\n",
      "Best cross-validation score: 0.71\n",
      "Best estimator:\n",
      "GradientBoostingClassifier(criterion='friedman_mse', init=None,\n",
      "              learning_rate=0.01, loss='deviance', max_depth=5,\n",
      "              max_features=None, max_leaf_nodes=None,\n",
      "              min_impurity_decrease=0.0, min_impurity_split=None,\n",
      "              min_samples_leaf=1, min_samples_split=2,\n",
      "              min_weight_fraction_leaf=0.0, n_estimators=100,\n",
      "              presort='auto', random_state=1, subsample=1.0, verbose=0,\n",
      "              warm_start=False)\n"
     ]
    }
   ],
   "source": [
    "param_grid = {'learning_rate': [0.001, 0.01, 0.1, 1],\n",
    "             'max_depth':[3, 5, 9]}\n",
    "\n",
    "grid_search = GridSearchCV(GradientBoostingClassifier(random_state = 1),\n",
    "                           param_grid, cv=StratifiedKFold(5, shuffle = True, random_state = 1))\n",
    "\n",
    "grid_search.fit(X_train_scaled, y_train)\n",
    "\n",
    "print(\"Best parameters: {}\".format(grid_search.best_params_))\n",
    "print(\"Best cross-validation score: {:.2f}\".format(grid_search.best_score_))\n",
    "\n",
    "print(\"Best estimator:\\n{}\".format(grid_search.best_estimator_))"
   ]
  },
  {
   "cell_type": "markdown",
   "metadata": {},
   "source": [
    "Build model using the best model in GradientBoosting"
   ]
  },
  {
   "cell_type": "code",
   "execution_count": 44,
   "metadata": {},
   "outputs": [
    {
     "name": "stdout",
     "output_type": "stream",
     "text": [
      "training score : 0.9901 \n",
      "testing score : 0.7200 \n",
      "Testing report :\n",
      "             precision    recall  f1-score   support\n",
      "\n",
      "          1       0.75      0.94      0.83        81\n",
      "          2       0.75      0.60      0.67        15\n",
      "          3       0.83      1.00      0.91         5\n",
      "          4       0.67      0.40      0.50         5\n",
      "          5       0.00      0.00      0.00         4\n",
      "          6       1.00      0.50      0.67         8\n",
      "          7       0.00      0.00      0.00         1\n",
      "          8       0.00      0.00      0.00         1\n",
      "          9       0.67      0.67      0.67         3\n",
      "         10       0.69      0.53      0.60        17\n",
      "         14       0.00      0.00      0.00         1\n",
      "         15       0.50      0.50      0.50         2\n",
      "         16       0.00      0.00      0.00         7\n",
      "\n",
      "avg / total       0.68      0.72      0.69       150\n",
      "\n",
      "Confusion matrix: \n",
      "[[76  1  0  0  0  0  0  0  0  1  1  0  2]\n",
      " [ 3  9  0  0  0  0  0  0  1  2  0  0  0]\n",
      " [ 0  0  5  0  0  0  0  0  0  0  0  0  0]\n",
      " [ 3  0  0  2  0  0  0  0  0  0  0  0  0]\n",
      " [ 4  0  0  0  0  0  0  0  0  0  0  0  0]\n",
      " [ 3  0  0  0  0  4  0  0  0  0  0  1  0]\n",
      " [ 1  0  0  0  0  0  0  0  0  0  0  0  0]\n",
      " [ 1  0  0  0  0  0  0  0  0  0  0  0  0]\n",
      " [ 0  0  0  0  1  0  0  0  2  0  0  0  0]\n",
      " [ 6  0  0  1  1  0  0  0  0  9  0  0  0]\n",
      " [ 1  0  0  0  0  0  0  0  0  0  0  0  0]\n",
      " [ 1  0  0  0  0  0  0  0  0  0  0  1  0]\n",
      " [ 3  2  1  0  0  0  0  0  0  1  0  0  0]]\n",
      "AUC: 0.6786\n"
     ]
    },
    {
     "data": {
      "image/png": "[encoded data removed]",
      "text/plain": [
       "<matplotlib.figure.Figure at 0x1ca292b6eb8>"
      ]
     },
     "metadata": {},
     "output_type": "display_data"
    }
   ],
   "source": [
    "gb_clf = GradientBoostingClassifier(learning_rate = 0.01,max_depth = 5,random_state = 1).fit(X_train_scaled, y_train)\n",
    "\n",
    "print_model_scores(gb_clf)\n",
    "\n",
    "var_imp_plot(gb_clf)"
   ]
  },
  {
   "cell_type": "markdown",
   "metadata": {},
   "source": [
    "Bagging and boosting XGBoost"
   ]
  },
  {
   "cell_type": "code",
   "execution_count": 45,
   "metadata": {},
   "outputs": [
    {
     "name": "stdout",
     "output_type": "stream",
     "text": [
      "training score : 0.9735 \n",
      "testing score : 0.7667 \n",
      "Testing report :\n",
      "             precision    recall  f1-score   support\n",
      "\n",
      "          1       0.75      0.99      0.86        81\n",
      "          2       0.91      0.67      0.77        15\n",
      "          3       0.83      1.00      0.91         5\n",
      "          4       0.75      0.60      0.67         5\n",
      "          5       0.00      0.00      0.00         4\n",
      "          6       1.00      0.75      0.86         8\n",
      "          7       0.00      0.00      0.00         1\n",
      "          8       0.00      0.00      0.00         1\n",
      "          9       1.00      0.67      0.80         3\n",
      "         10       0.69      0.53      0.60        17\n",
      "         14       0.00      0.00      0.00         1\n",
      "         15       0.00      0.00      0.00         2\n",
      "         16       0.00      0.00      0.00         7\n",
      "\n",
      "avg / total       0.70      0.77      0.72       150\n",
      "\n",
      "Confusion matrix: \n",
      "[[80  0  0  0  0  0  0  0  0  1  0  0  0]\n",
      " [ 4 10  0  0  0  0  0  0  0  1  0  0  0]\n",
      " [ 0  0  5  0  0  0  0  0  0  0  0  0  0]\n",
      " [ 1  0  0  3  0  0  0  0  0  1  0  0  0]\n",
      " [ 4  0  0  0  0  0  0  0  0  0  0  0  0]\n",
      " [ 1  0  1  0  0  6  0  0  0  0  0  0  0]\n",
      " [ 1  0  0  0  0  0  0  0  0  0  0  0  0]\n",
      " [ 1  0  0  0  0  0  0  0  0  0  0  0  0]\n",
      " [ 1  0  0  0  0  0  0  0  2  0  0  0  0]\n",
      " [ 6  0  0  1  1  0  0  0  0  9  0  0  0]\n",
      " [ 1  0  0  0  0  0  0  0  0  0  0  0  0]\n",
      " [ 1  0  0  0  1  0  0  0  0  0  0  0  0]\n",
      " [ 5  1  0  0  0  0  0  0  0  1  0  0  0]]\n",
      "AUC: 0.6830\n",
      "training score : 1.0000 \n",
      "testing score : 0.7400 \n",
      "Testing report :\n",
      "             precision    recall  f1-score   support\n",
      "\n",
      "          1       0.74      0.99      0.85        81\n",
      "          2       0.82      0.60      0.69        15\n",
      "          3       1.00      1.00      1.00         5\n",
      "          4       0.75      0.60      0.67         5\n",
      "          5       0.00      0.00      0.00         4\n",
      "          6       1.00      0.50      0.67         8\n",
      "          7       0.00      0.00      0.00         1\n",
      "          8       0.00      0.00      0.00         1\n",
      "          9       0.67      0.67      0.67         3\n",
      "         10       0.70      0.41      0.52        17\n",
      "         14       0.00      0.00      0.00         1\n",
      "         15       1.00      0.50      0.67         2\n",
      "         16       0.00      0.00      0.00         7\n",
      "\n",
      "avg / total       0.70      0.74      0.70       150\n",
      "\n",
      "Confusion matrix: \n",
      "[[80  1  0  0  0  0  0  0  0  0  0  0  0]\n",
      " [ 5  9  0  0  0  0  0  0  0  1  0  0  0]\n",
      " [ 0  0  5  0  0  0  0  0  0  0  0  0  0]\n",
      " [ 2  0  0  3  0  0  0  0  0  0  0  0  0]\n",
      " [ 4  0  0  0  0  0  0  0  0  0  0  0  0]\n",
      " [ 2  0  0  0  0  4  0  0  0  1  1  0  0]\n",
      " [ 1  0  0  0  0  0  0  0  0  0  0  0  0]\n",
      " [ 1  0  0  0  0  0  0  0  0  0  0  0  0]\n",
      " [ 0  0  0  0  1  0  0  0  2  0  0  0  0]\n",
      " [ 7  0  0  1  1  0  1  0  0  7  0  0  0]\n",
      " [ 1  0  0  0  0  0  0  0  0  0  0  0  0]\n",
      " [ 1  0  0  0  0  0  0  0  0  0  0  1  0]\n",
      " [ 4  1  0  0  0  0  0  0  1  1  0  0  0]]\n",
      "AUC: 0.6839\n"
     ]
    },
    {
     "data": {
      "image/png": "[encoded data removed]",
      "text/plain": [
       "<matplotlib.figure.Figure at 0x1ca29482400>"
      ]
     },
     "metadata": {},
     "output_type": "display_data"
    }
   ],
   "source": [
    "gb_clf = BaggingClassifier(GradientBoostingClassifier(learning_rate = 0.01,\n",
    "                                                      max_depth = 5,random_state = 1)).fit(X_train_scaled, y_train)\n",
    "\n",
    "print_model_scores(gb_clf)\n",
    "\n",
    "gb_clf = AdaBoostClassifier(GradientBoostingClassifier(learning_rate = 0.01,\n",
    "                                                       max_depth = 5,random_state = 1)).fit(X_train_scaled, y_train)\n",
    "\n",
    "print_model_scores(gb_clf)\n",
    "var_imp_plot(gb_clf)"
   ]
  },
  {
   "cell_type": "markdown",
   "metadata": {
    "collapsed": true
   },
   "source": [
    "Using Grid Search for finding best KNN estimator"
   ]
  },
  {
   "cell_type": "code",
   "execution_count": 46,
   "metadata": {},
   "outputs": [
    {
     "name": "stdout",
     "output_type": "stream",
     "text": [
      "Best parameters: {'n_neighbors': 5}\n",
      "Best cross-validation score: 0.58\n",
      "Best estimator:\n",
      "KNeighborsClassifier(algorithm='auto', leaf_size=30, metric='minkowski',\n",
      "           metric_params=None, n_jobs=1, n_neighbors=5, p=2,\n",
      "           weights='uniform')\n",
      "CV results: {'mean_fit_time': array([ 0.00571828,  0.00249581,  0.00191245,  0.00210528,  0.00290685]), 'std_fit_time': array([ 0.00154108,  0.00054824,  0.0002047 ,  0.00049089,  0.00097192]), 'mean_score_time': array([ 0.02195749,  0.00822883,  0.00802794,  0.00802169,  0.01243372]), 'std_score_time': array([ 0.00518933,  0.00111887,  0.00089434,  0.00031711,  0.00374385]), 'param_n_neighbors': masked_array(data = [1 2 4 5 10],\n",
      "             mask = [False False False False False],\n",
      "       fill_value = ?)\n",
      ", 'params': [{'n_neighbors': 1}, {'n_neighbors': 2}, {'n_neighbors': 4}, {'n_neighbors': 5}, {'n_neighbors': 10}], 'split0_test_score': array([ 0.57142857,  0.55555556,  0.50793651,  0.55555556,  0.53968254]), 'split1_test_score': array([ 0.46031746,  0.55555556,  0.53968254,  0.53968254,  0.52380952]), 'split2_test_score': array([ 0.54237288,  0.57627119,  0.55932203,  0.57627119,  0.55932203]), 'split3_test_score': array([ 0.64516129,  0.59677419,  0.61290323,  0.59677419,  0.59677419]), 'split4_test_score': array([ 0.58181818,  0.56363636,  0.63636364,  0.63636364,  0.63636364]), 'mean_test_score': array([ 0.55960265,  0.56953642,  0.56953642,  0.5794702 ,  0.56953642]), 'std_test_score': array([ 0.06112502,  0.0157817 ,  0.04687544,  0.0332041 ,  0.0401015 ]), 'rank_test_score': array([5, 2, 2, 1, 2]), 'split0_train_score': array([ 1.        ,  0.69874477,  0.65271967,  0.66108787,  0.58995816]), 'split1_train_score': array([ 1.        ,  0.71129707,  0.67364017,  0.67782427,  0.59832636]), 'split2_train_score': array([ 1.        ,  0.69958848,  0.64197531,  0.65020576,  0.58847737]), 'split3_train_score': array([ 1.        ,  0.67083333,  0.62083333,  0.60416667,  0.5625    ]), 'split4_train_score': array([ 1.        ,  0.70445344,  0.63157895,  0.63562753,  0.56680162]), 'mean_train_score': array([ 1.        ,  0.69698342,  0.64414948,  0.64578242,  0.5812127 ]), 'std_train_score': array([ 0.        ,  0.01381592,  0.01816335,  0.02496195,  0.01399986])}\n"
     ]
    }
   ],
   "source": [
    "knn_clf = KNeighborsClassifier()\n",
    "\n",
    "param_grid = {'n_neighbors':[1, 2, 4, 5, 10]}\n",
    "\n",
    "grid_search = GridSearchCV(knn_clf , param_grid, cv = StratifiedKFold(5, shuffle = True, random_state = 1),\n",
    "                               scoring = new_score,return_train_score=True)\n",
    "grid_search.fit(X_train_scaled, y_train)\n",
    "\n",
    "print_grid_search(grid_search)\n",
    "print(\"CV results: \", end=\"\")\n",
    "print(grid_search.cv_results_)"
   ]
  },
  {
   "cell_type": "markdown",
   "metadata": {},
   "source": [
    "Build model using the best model in KNN"
   ]
  },
  {
   "cell_type": "code",
   "execution_count": 47,
   "metadata": {},
   "outputs": [
    {
     "name": "stdout",
     "output_type": "stream",
     "text": [
      "training score : 0.6523 \n",
      "testing score : 0.5933 \n",
      "Testing report :\n",
      "             precision    recall  f1-score   support\n",
      "\n",
      "          1       0.58      0.95      0.72        81\n",
      "          2       0.33      0.07      0.11        15\n",
      "          3       1.00      0.80      0.89         5\n",
      "          4       1.00      0.40      0.57         5\n",
      "          5       0.00      0.00      0.00         4\n",
      "          6       0.00      0.00      0.00         8\n",
      "          7       0.00      0.00      0.00         1\n",
      "          8       0.00      0.00      0.00         1\n",
      "          9       1.00      0.33      0.50         3\n",
      "         10       1.00      0.24      0.38        17\n",
      "         14       0.00      0.00      0.00         1\n",
      "         15       0.00      0.00      0.00         2\n",
      "         16       0.00      0.00      0.00         7\n",
      "\n",
      "avg / total       0.55      0.59      0.50       150\n",
      "\n",
      "Confusion matrix: \n",
      "[[77  1  0  0  0  3  0  0  0  0  0  0  0]\n",
      " [14  1  0  0  0  0  0  0  0  0  0  0  0]\n",
      " [ 0  0  4  0  0  1  0  0  0  0  0  0  0]\n",
      " [ 3  0  0  2  0  0  0  0  0  0  0  0  0]\n",
      " [ 4  0  0  0  0  0  0  0  0  0  0  0  0]\n",
      " [ 8  0  0  0  0  0  0  0  0  0  0  0  0]\n",
      " [ 1  0  0  0  0  0  0  0  0  0  0  0  0]\n",
      " [ 1  0  0  0  0  0  0  0  0  0  0  0  0]\n",
      " [ 1  1  0  0  0  0  0  0  1  0  0  0  0]\n",
      " [13  0  0  0  0  0  0  0  0  4  0  0  0]\n",
      " [ 1  0  0  0  0  0  0  0  0  0  0  0  0]\n",
      " [ 2  0  0  0  0  0  0  0  0  0  0  0  0]\n",
      " [ 7  0  0  0  0  0  0  0  0  0  0  0  0]]\n",
      "AUC: 0.5748\n"
     ]
    }
   ],
   "source": [
    "knn_clf = KNeighborsClassifier(n_neighbors = 5).fit(X_train_scaled, y_train)\n",
    "\n",
    "print_model_scores(model=knn_clf)"
   ]
  },
  {
   "cell_type": "code",
   "execution_count": 48,
   "metadata": {},
   "outputs": [
    {
     "name": "stdout",
     "output_type": "stream",
     "text": [
      "training score : 0.6589 \n",
      "testing score : 0.5800 \n",
      "Testing report :\n",
      "             precision    recall  f1-score   support\n",
      "\n",
      "          1       0.59      0.93      0.72        81\n",
      "          2       0.25      0.07      0.11        15\n",
      "          3       1.00      0.80      0.89         5\n",
      "          4       1.00      0.20      0.33         5\n",
      "          5       0.00      0.00      0.00         4\n",
      "          6       0.00      0.00      0.00         8\n",
      "          7       0.00      0.00      0.00         1\n",
      "          8       0.00      0.00      0.00         1\n",
      "          9       1.00      0.33      0.50         3\n",
      "         10       1.00      0.29      0.45        17\n",
      "         14       0.00      0.00      0.00         1\n",
      "         15       0.00      0.00      0.00         2\n",
      "         16       0.00      0.00      0.00         7\n",
      "\n",
      "avg / total       0.54      0.58      0.50       150\n",
      "\n",
      "Confusion matrix: \n",
      "[[75  2  0  0  0  4  0  0  0  0  0  0  0]\n",
      " [14  1  0  0  0  0  0  0  0  0  0  0  0]\n",
      " [ 0  0  4  0  0  1  0  0  0  0  0  0  0]\n",
      " [ 3  0  0  1  0  0  0  1  0  0  0  0  0]\n",
      " [ 4  0  0  0  0  0  0  0  0  0  0  0  0]\n",
      " [ 8  0  0  0  0  0  0  0  0  0  0  0  0]\n",
      " [ 1  0  0  0  0  0  0  0  0  0  0  0  0]\n",
      " [ 1  0  0  0  0  0  0  0  0  0  0  0  0]\n",
      " [ 1  1  0  0  0  0  0  0  1  0  0  0  0]\n",
      " [11  0  0  0  0  1  0  0  0  5  0  0  0]\n",
      " [ 1  0  0  0  0  0  0  0  0  0  0  0  0]\n",
      " [ 2  0  0  0  0  0  0  0  0  0  0  0  0]\n",
      " [ 7  0  0  0  0  0  0  0  0  0  0  0  0]]\n",
      "AUC: 0.5685\n"
     ]
    }
   ],
   "source": [
    "knn_clf = BaggingClassifier(KNeighborsClassifier(n_neighbors = 5)).fit(X_train_scaled, y_train)\n",
    "\n",
    "print_model_scores(model=knn_clf)"
   ]
  },
  {
   "cell_type": "markdown",
   "metadata": {},
   "source": [
    "As we can see most of the models here are overfitting the training data. This is also a multiclass classification problem so we have taken AUC as the measure to select few best models. We can reduce a little complexity on those data to give a goodfit instead of the overfit which we have now. The best models considering AUC as the scoring criteria are as follows:<br>\n",
    "1) **SVC with linear and rbf kernels** (AUC ~ 71 and 68)<br>\n",
    "2) **GradientBoosting with Bagging and Boosting** (AUC ~ 70 and 69)<br>\n",
    "3) **Decision tree with Bagging** (AUC ~ 71)"
   ]
  },
  {
   "cell_type": "code",
   "execution_count": 49,
   "metadata": {},
   "outputs": [
    {
     "name": "stdout",
     "output_type": "stream",
     "text": [
      "Variance lost is: 2.17418271421625%\n",
      "Sum of explained variance is: 99.999950772%\n"
     ]
    }
   ],
   "source": [
    "pca = decomposition.PCA(n_components=220)\n",
    "X_pca = pca.fit_transform(X)\n",
    "\n",
    "X_pca_inv = pca.inverse_transform(X_pca)\n",
    "\n",
    "print(\"Variance lost is: \",end=\"\")\n",
    "print(np.mean(np.sum(np.square(X_pca_inv - X), axis=1))*100, end=\"\")\n",
    "print(\"%\")\n",
    "\n",
    "print(\"Sum of explained variance is: \", end=\"\")\n",
    "print(np.sum(pca.explained_variance_ratio_)*100,end=\"\")\n",
    "print(\"%\")"
   ]
  },
  {
   "cell_type": "markdown",
   "metadata": {},
   "source": [
    "Splitting the train and test set after pca for model building"
   ]
  },
  {
   "cell_type": "code",
   "execution_count": 50,
   "metadata": {},
   "outputs": [],
   "source": [
    "X_train_pca, X_test_pca, y_train, y_test = train_test_split(X_pca, y, test_size=0.33, random_state=1, stratify = y)"
   ]
  },
  {
   "cell_type": "markdown",
   "metadata": {},
   "source": [
    "Grid Seeach on SVC linear kernel to find best parameters"
   ]
  },
  {
   "cell_type": "code",
   "execution_count": 51,
   "metadata": {},
   "outputs": [
    {
     "name": "stdout",
     "output_type": "stream",
     "text": [
      "Best parameters: {'C': 0.1}\n",
      "Best cross-validation score: 0.68\n",
      "Best estimator:\n",
      "SVC(C=0.1, cache_size=200, class_weight=None, coef0=0.0,\n",
      "  decision_function_shape='ovr', degree=3, gamma='auto', kernel='linear',\n",
      "  max_iter=-1, probability=False, random_state=1, shrinking=True,\n",
      "  tol=0.001, verbose=False)\n"
     ]
    }
   ],
   "source": [
    "param_grid = {'C': [0.1, 1, 10, 100, 200, 500]}\n",
    "\n",
    "grid_search = GridSearchCV(SVC(kernel = 'linear', random_state = 1),\n",
    "                           param_grid, cv=StratifiedKFold(5, shuffle = True, random_state = 1))\n",
    "\n",
    "grid_search.fit(X_train_pca, y_train)\n",
    "\n",
    "print_grid_search(grid_search)"
   ]
  },
  {
   "cell_type": "markdown",
   "metadata": {},
   "source": [
    "Building SVC using best parameters"
   ]
  },
  {
   "cell_type": "code",
   "execution_count": 52,
   "metadata": {},
   "outputs": [
    {
     "name": "stdout",
     "output_type": "stream",
     "text": [
      "training score : 1.0000 \n",
      "testing score : 0.6133 \n",
      "Testing report :\n",
      "             precision    recall  f1-score   support\n",
      "\n",
      "          1       0.72      0.80      0.76        81\n",
      "          2       0.40      0.27      0.32        15\n",
      "          3       1.00      1.00      1.00         5\n",
      "          4       0.38      0.60      0.46         5\n",
      "          5       0.00      0.00      0.00         4\n",
      "          6       0.44      0.50      0.47         8\n",
      "          7       0.00      0.00      0.00         1\n",
      "          8       0.00      0.00      0.00         1\n",
      "          9       1.00      1.00      1.00         3\n",
      "         10       0.58      0.41      0.48        17\n",
      "         14       0.00      0.00      0.00         1\n",
      "         15       1.00      0.50      0.67         2\n",
      "         16       0.00      0.00      0.00         7\n",
      "\n",
      "avg / total       0.60      0.61      0.60       150\n",
      "\n",
      "Confusion matrix: \n",
      "[[65  2  0  2  2  3  0  0  0  2  0  0  5]\n",
      " [ 7  4  0  0  0  1  0  0  0  1  0  0  2]\n",
      " [ 0  0  5  0  0  0  0  0  0  0  0  0  0]\n",
      " [ 1  0  0  3  0  0  0  1  0  0  0  0  0]\n",
      " [ 1  2  0  1  0  0  0  0  0  0  0  0  0]\n",
      " [ 2  0  0  1  0  4  0  0  0  1  0  0  0]\n",
      " [ 1  0  0  0  0  0  0  0  0  0  0  0  0]\n",
      " [ 0  1  0  0  0  0  0  0  0  0  0  0  0]\n",
      " [ 0  0  0  0  0  0  0  0  3  0  0  0  0]\n",
      " [ 7  0  0  1  0  1  0  0  0  7  1  0  0]\n",
      " [ 0  0  0  0  0  0  0  0  0  0  0  0  1]\n",
      " [ 0  1  0  0  0  0  0  0  0  0  0  1  0]\n",
      " [ 6  0  0  0  0  0  0  0  0  1  0  0  0]]\n",
      "AUC: 0.6725\n"
     ]
    }
   ],
   "source": [
    "svc = SVC(C=0.1, kernel='linear', random_state=1).fit(X_train_pca, y_train)\n",
    "\n",
    "print_model_scores(model = svc, X_test_scaled=X_test_pca, X_train_scaled = X_train_pca)"
   ]
  },
  {
   "cell_type": "markdown",
   "metadata": {},
   "source": [
    "Grid search on SVC with rbf kernel to find best parameters"
   ]
  },
  {
   "cell_type": "code",
   "execution_count": 53,
   "metadata": {},
   "outputs": [
    {
     "name": "stdout",
     "output_type": "stream",
     "text": [
      "Best parameters: {'C': 10, 'gamma': 0.0001}\n",
      "Best cross-validation score: 0.55\n",
      "Best estimator:\n",
      "SVC(C=10, cache_size=200, class_weight=None, coef0=0.0,\n",
      "  decision_function_shape='ovr', degree=3, gamma=0.0001, kernel='rbf',\n",
      "  max_iter=-1, probability=False, random_state=1, shrinking=True,\n",
      "  tol=0.001, verbose=False)\n"
     ]
    }
   ],
   "source": [
    "param_grid = {'C': [1, 10, 100, 200, 400, 500],\n",
    "              'gamma': [0.0001, 0.005, 0.001, 0.01]}\n",
    "\n",
    "grid_search = GridSearchCV(SVC(kernel = 'rbf', random_state = 1),\n",
    "                           param_grid, cv=StratifiedKFold(5, shuffle = True, random_state = 1))\n",
    "\n",
    "grid_search.fit(X_train_pca, y_train)\n",
    "\n",
    "print_grid_search(grid_search)"
   ]
  },
  {
   "cell_type": "markdown",
   "metadata": {},
   "source": [
    "Building SVC using best parameters"
   ]
  },
  {
   "cell_type": "code",
   "execution_count": 54,
   "metadata": {},
   "outputs": [
    {
     "name": "stdout",
     "output_type": "stream",
     "text": [
      "training score : 1.0000 \n",
      "testing score : 0.5400 \n",
      "Testing report :\n",
      "             precision    recall  f1-score   support\n",
      "\n",
      "          1       0.54      1.00      0.70        81\n",
      "          2       0.00      0.00      0.00        15\n",
      "          3       0.00      0.00      0.00         5\n",
      "          4       0.00      0.00      0.00         5\n",
      "          5       0.00      0.00      0.00         4\n",
      "          6       0.00      0.00      0.00         8\n",
      "          7       0.00      0.00      0.00         1\n",
      "          8       0.00      0.00      0.00         1\n",
      "          9       0.00      0.00      0.00         3\n",
      "         10       0.00      0.00      0.00        17\n",
      "         14       0.00      0.00      0.00         1\n",
      "         15       0.00      0.00      0.00         2\n",
      "         16       0.00      0.00      0.00         7\n",
      "\n",
      "avg / total       0.29      0.54      0.38       150\n",
      "\n",
      "Confusion matrix: \n",
      "[[81  0  0  0  0  0  0  0  0  0  0  0  0]\n",
      " [15  0  0  0  0  0  0  0  0  0  0  0  0]\n",
      " [ 5  0  0  0  0  0  0  0  0  0  0  0  0]\n",
      " [ 5  0  0  0  0  0  0  0  0  0  0  0  0]\n",
      " [ 4  0  0  0  0  0  0  0  0  0  0  0  0]\n",
      " [ 8  0  0  0  0  0  0  0  0  0  0  0  0]\n",
      " [ 1  0  0  0  0  0  0  0  0  0  0  0  0]\n",
      " [ 1  0  0  0  0  0  0  0  0  0  0  0  0]\n",
      " [ 3  0  0  0  0  0  0  0  0  0  0  0  0]\n",
      " [17  0  0  0  0  0  0  0  0  0  0  0  0]\n",
      " [ 1  0  0  0  0  0  0  0  0  0  0  0  0]\n",
      " [ 2  0  0  0  0  0  0  0  0  0  0  0  0]\n",
      " [ 7  0  0  0  0  0  0  0  0  0  0  0  0]]\n",
      "AUC: 0.5000\n"
     ]
    }
   ],
   "source": [
    "svc = SVC(C=10, gamma=0.0001, kernel='rbf', random_state=1).fit(X_train_pca, y_train)\n",
    "\n",
    "print_model_scores(model = svc, X_test_scaled=X_test_pca, X_train_scaled=X_train_pca)"
   ]
  },
  {
   "cell_type": "markdown",
   "metadata": {},
   "source": [
    "Grid Search on Decision Tree to find best parameters"
   ]
  },
  {
   "cell_type": "code",
   "execution_count": 55,
   "metadata": {},
   "outputs": [
    {
     "name": "stdout",
     "output_type": "stream",
     "text": [
      "Best parameters: {'max_depth': 3}\n",
      "Best cross-validation score: 0.56\n",
      "Best estimator:\n",
      "DecisionTreeClassifier(class_weight=None, criterion='gini', max_depth=3,\n",
      "            max_features=None, max_leaf_nodes=None,\n",
      "            min_impurity_decrease=0.0, min_impurity_split=None,\n",
      "            min_samples_leaf=1, min_samples_split=2,\n",
      "            min_weight_fraction_leaf=0.0, presort=False, random_state=1,\n",
      "            splitter='best')\n"
     ]
    }
   ],
   "source": [
    "param_grid = {'max_depth': np.arange(3, 10)}\n",
    "\n",
    "grid_search = GridSearchCV(DecisionTreeClassifier(random_state=1),\n",
    "                           param_grid, cv=StratifiedKFold(5, shuffle = True, random_state = 1))\n",
    "\n",
    "grid_search.fit(X_train_pca, y_train)\n",
    "\n",
    "print_grid_search(grid_search)"
   ]
  },
  {
   "cell_type": "markdown",
   "metadata": {},
   "source": [
    "Training Decision tree using the best parameters"
   ]
  },
  {
   "cell_type": "code",
   "execution_count": 56,
   "metadata": {},
   "outputs": [
    {
     "name": "stdout",
     "output_type": "stream",
     "text": [
      "training score : 0.6623 \n",
      "testing score : 0.5667 \n",
      "Testing report :\n",
      "             precision    recall  f1-score   support\n",
      "\n",
      "          1       0.59      0.93      0.72        81\n",
      "          2       0.50      0.27      0.35        15\n",
      "          3       0.00      0.00      0.00         5\n",
      "          4       0.00      0.00      0.00         5\n",
      "          5       0.00      0.00      0.00         4\n",
      "          6       0.00      0.00      0.00         8\n",
      "          7       0.00      0.00      0.00         1\n",
      "          8       0.00      0.00      0.00         1\n",
      "          9       0.75      1.00      0.86         3\n",
      "         10       0.27      0.18      0.21        17\n",
      "         14       0.00      0.00      0.00         1\n",
      "         15       0.00      0.00      0.00         2\n",
      "         16       0.00      0.00      0.00         7\n",
      "\n",
      "avg / total       0.41      0.57      0.47       150\n",
      "\n",
      "Confusion matrix: \n",
      "[[75  2  0  0  0  0  0  0  0  4  0  0  0]\n",
      " [ 9  4  0  0  0  0  0  0  0  2  0  0  0]\n",
      " [ 5  0  0  0  0  0  0  0  0  0  0  0  0]\n",
      " [ 5  0  0  0  0  0  0  0  0  0  0  0  0]\n",
      " [ 3  1  0  0  0  0  0  0  0  0  0  0  0]\n",
      " [ 5  1  0  0  0  0  0  0  1  1  0  0  0]\n",
      " [ 1  0  0  0  0  0  0  0  0  0  0  0  0]\n",
      " [ 1  0  0  0  0  0  0  0  0  0  0  0  0]\n",
      " [ 0  0  0  0  0  0  0  0  3  0  0  0  0]\n",
      " [14  0  0  0  0  0  0  0  0  3  0  0  0]\n",
      " [ 1  0  0  0  0  0  0  0  0  0  0  0  0]\n",
      " [ 2  0  0  0  0  0  0  0  0  0  0  0  0]\n",
      " [ 6  0  0  0  0  0  0  0  0  1  0  0  0]]\n",
      "AUC: 0.5584\n"
     ]
    }
   ],
   "source": [
    "dt = DecisionTreeClassifier(max_depth = 3, random_state=1).fit(X_train_pca, y_train)\n",
    "\n",
    "print_model_scores(model = dt, X_test_scaled=X_test_pca, X_train_scaled = X_train_pca)"
   ]
  },
  {
   "cell_type": "markdown",
   "metadata": {},
   "source": [
    "Training Decision Tree using PCA"
   ]
  },
  {
   "cell_type": "code",
   "execution_count": 57,
   "metadata": {},
   "outputs": [
    {
     "name": "stdout",
     "output_type": "stream",
     "text": [
      "training score : 0.6623 \n",
      "testing score : 0.5533 \n",
      "Testing report :\n",
      "             precision    recall  f1-score   support\n",
      "\n",
      "          1       0.57      0.94      0.71        81\n",
      "          2       0.40      0.27      0.32        15\n",
      "          3       0.00      0.00      0.00         5\n",
      "          4       0.00      0.00      0.00         5\n",
      "          5       0.00      0.00      0.00         4\n",
      "          6       0.00      0.00      0.00         8\n",
      "          7       0.00      0.00      0.00         1\n",
      "          8       0.00      0.00      0.00         1\n",
      "          9       1.00      0.33      0.50         3\n",
      "         10       0.33      0.12      0.17        17\n",
      "         14       0.00      0.00      0.00         1\n",
      "         15       0.00      0.00      0.00         2\n",
      "         16       0.00      0.00      0.00         7\n",
      "\n",
      "avg / total       0.41      0.55      0.45       150\n",
      "\n",
      "Confusion matrix: \n",
      "[[76  3  0  0  0  0  0  0  0  2  0  0  0]\n",
      " [10  4  0  0  0  0  0  0  0  1  0  0  0]\n",
      " [ 5  0  0  0  0  0  0  0  0  0  0  0  0]\n",
      " [ 5  0  0  0  0  0  0  0  0  0  0  0  0]\n",
      " [ 3  1  0  0  0  0  0  0  0  0  0  0  0]\n",
      " [ 8  0  0  0  0  0  0  0  0  0  0  0  0]\n",
      " [ 1  0  0  0  0  0  0  0  0  0  0  0  0]\n",
      " [ 1  0  0  0  0  0  0  0  0  0  0  0  0]\n",
      " [ 1  0  0  0  0  0  0  0  1  1  0  0  0]\n",
      " [13  2  0  0  0  0  0  0  0  2  0  0  0]\n",
      " [ 1  0  0  0  0  0  0  0  0  0  0  0  0]\n",
      " [ 2  0  0  0  0  0  0  0  0  0  0  0  0]\n",
      " [ 7  0  0  0  0  0  0  0  0  0  0  0  0]]\n",
      "AUC: 0.5291\n"
     ]
    }
   ],
   "source": [
    "dt = BaggingClassifier(DecisionTreeClassifier(max_depth = 3, random_state=1)).fit(X_train_pca, y_train)\n",
    "\n",
    "print_model_scores(model = dt, X_test_scaled=X_test_pca, X_train_scaled = X_train_pca)"
   ]
  },
  {
   "cell_type": "markdown",
   "metadata": {},
   "source": [
    "Grid Search on GradientBoost to Find Best Parameters"
   ]
  },
  {
   "cell_type": "code",
   "execution_count": 58,
   "metadata": {},
   "outputs": [
    {
     "name": "stdout",
     "output_type": "stream",
     "text": [
      "Best parameters: {'learning_rate': 0.1, 'max_depth': 3}\n",
      "Best cross-validation score: 0.57\n",
      "Best estimator:\n",
      "GradientBoostingClassifier(criterion='friedman_mse', init=None,\n",
      "              learning_rate=0.1, loss='deviance', max_depth=3,\n",
      "              max_features=None, max_leaf_nodes=None,\n",
      "              min_impurity_decrease=0.0, min_impurity_split=None,\n",
      "              min_samples_leaf=1, min_samples_split=2,\n",
      "              min_weight_fraction_leaf=0.0, n_estimators=100,\n",
      "              presort='auto', random_state=1, subsample=1.0, verbose=0,\n",
      "              warm_start=False)\n"
     ]
    }
   ],
   "source": [
    "param_grid = {'learning_rate': [0.001, 0.01, 0.1, 1],\n",
    "             'max_depth':[3, 5, 9]}\n",
    "\n",
    "grid_search = GridSearchCV(GradientBoostingClassifier(random_state = 1),\n",
    "                           param_grid, cv=StratifiedKFold(5, shuffle = True, random_state = 1))\n",
    "\n",
    "grid_search.fit(X_train_pca, y_train)\n",
    "\n",
    "print_grid_search(grid_search)"
   ]
  },
  {
   "cell_type": "markdown",
   "metadata": {},
   "source": [
    "Training Gradient Boosting using AdaBoost"
   ]
  },
  {
   "cell_type": "code",
   "execution_count": null,
   "metadata": {
    "collapsed": true
   },
   "outputs": [],
   "source": [
    "gb_clf = AdaBoostClassifier(GradientBoostingClassifier(learning_rate = 0.1,max_depth = 5,random_state = 1)).fit(X_train_pca, y_train)\n",
    "\n",
    "print_model_scores(model = dt, X_test_scaled = X_test_pca, X_train_scaled = X_train_pca)"
   ]
  },
  {
   "cell_type": "markdown",
   "metadata": {},
   "source": [
    "### Summary <br>\n",
    "**Heart rate** undoubtedly won in all the models being the most important variable <br>\n",
    "**Few other important** variables are related to the R' wave, amplitudes in few channels (DII, V6) seeming the most important, age, weight and QRSA ratio.<br>\n",
    "In modeling, AUC was used to determine the model efficiency because there is a class imbalance issue here and accuracy would not be a good measure to calculate.<br>\n",
    "As we can see after pca any model did not perform better than before even though the variance was being captured.<br>\n",
    "**Dimensionality reduction did not help**<br>\n",
    "Support Vector Classifier with a linear kernel (C =1) or RBF kernel work well with AUC 71% but, bagging or boosting did not help there.<br>\n",
    "**Bagging and Boosting did not help**<br>\n",
    "Decision tree worked well but bagging boosted it's performace with AUC 71%<br>\n",
    "**Bagging and Boosting helped**<br>\n",
    "Random Forests did just fine with AUC 68%<br>\n",
    "Gradient boosting worked well with bagging and boosting giving AUC approximately 70%<br>\n",
    "**Bagging and Boosting helped**<br>\n",
    "All the other models did not work well<br>\n",
    "##### Finally, bagging and boosting may not work always, dimensionality reduction may not help always\n",
    "We decide to go with the Decision tree model using bagging or SVC classifier using a linear kernel if we had to drill down."
   ]
  },
  {
   "cell_type": "code",
   "execution_count": null,
   "metadata": {
    "collapsed": true
   },
   "outputs": [],
   "source": []
  }
 ],
 "metadata": {
  "kernelspec": {
   "display_name": "Python 3",
   "language": "python",
   "name": "python3"
  },
  "language_info": {
   "codemirror_mode": {
    "name": "ipython",
    "version": 3
   },
   "file_extension": ".py",
   "mimetype": "text/x-python",
   "name": "python",
   "nbconvert_exporter": "python",
   "pygments_lexer": "ipython3",
   "version": "3.6.3"
  }
 },
 "nbformat": 4,
 "nbformat_minor": 2
}
